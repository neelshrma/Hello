{
 "cells": [
  {
   "cell_type": "code",
   "execution_count": 2,
   "metadata": {},
   "outputs": [
    {
     "output_type": "stream",
     "text": [
      "sharma neel\n"
     ]
    }
   ],
   "source": [
    "name = \"neel\"\n",
    "s=print\n",
    "s(\"sharma\",name)"
   ]
  },
  {
   "cell_type": "code",
   "execution_count": 3,
   "metadata": {},
   "outputs": [
    {
     "name": "stdout",
     "output_type": "stream",
     "text": [
      "['False', 'None', 'True', 'and', 'as', 'assert', 'break', 'class', 'continue', 'def', 'del', 'elif', 'else', 'except', 'finally', 'for', 'from', 'global', 'if', 'import', 'in', 'is', 'lambda', 'nonlocal', 'not', 'or', 'pass', 'raise', 'return', 'try', 'while', 'with', 'yield']\n"
     ]
    }
   ],
   "source": [
    "from keyword import kwlist\n",
    "print(kwlist)"
   ]
  },
  {
   "cell_type": "code",
   "execution_count": 10,
   "metadata": {},
   "outputs": [
    {
     "name": "stdout",
     "output_type": "stream",
     "text": [
      "enter your name:neel\n",
      "enter your age :45\n",
      "Are you graduate(yes or no):yes\n",
      "will you vote for BJP(yes or no):bjp\n"
     ]
    }
   ],
   "source": [
    "#Data Structure\n",
    "name='name'\n",
    "age='age'\n",
    "graduation='graduation'\n",
    "party='party'\n",
    "\n",
    "data={name:[],\n",
    "     age:[],\n",
    "     graduation:[],\n",
    "     party:[],\n",
    "     \n",
    "    }\n",
    "\n",
    "#Data Entry\n",
    "name=input(\"enter your name:\")\n",
    "age=int(input(\"enter your age :\"))\n",
    "graduation=input(\"Are you graduate(yes or no):\")\n",
    "party=input(\"will you vote for BJP(yes or no):\")\n",
    "data[name]=name\n",
    "data[age]=age\n",
    "data[graduation]=graduation\n",
    "data[party]=party\n",
    "\n"
   ]
  },
  {
   "cell_type": "code",
   "execution_count": 13,
   "metadata": {},
   "outputs": [
    {
     "ename": "SyntaxError",
     "evalue": "invalid syntax (<ipython-input-13-c8e26762b01f>, line 23)",
     "output_type": "error",
     "traceback": [
      "\u001b[1;36m  File \u001b[1;32m\"<ipython-input-13-c8e26762b01f>\"\u001b[1;36m, line \u001b[1;32m23\u001b[0m\n\u001b[1;33m    data[party].append(input(\"will you vote for BJP(yes or no):\")\u001b[0m\n\u001b[1;37m       ^\u001b[0m\n\u001b[1;31mSyntaxError\u001b[0m\u001b[1;31m:\u001b[0m invalid syntax\n"
     ]
    }
   ],
   "source": [
    "\n",
    "\n",
    "data={'name':[],\n",
    " 'age':[],\n",
    "'graduation':[],\n",
    "'party':[],\n",
    "     \n",
    "   }\n",
    "\n",
    "#Data Entry\n",
    "#name=input(\"enter your name:\")\n",
    "#age=int(input(\"enter your age :\"))\n",
    "#graduation=input(\"Are you graduate(yes or no):\")\n",
    "#party=input(\"will you vote for BJP(yes or no):\")\n",
    "#data[name]=name\n",
    "#data[age]=age\n",
    "#data[graduation]=graduation\n",
    "#data[party]=party\n",
    "\n",
    "data[name].append(input(\"enter your name:\"))\n",
    "data[age].append(input(\"enter your age :\"))\n",
    "data[graduation].append(input(\"Are you graduate(yes or no):\")\n",
    "data[party].append(input(\"will you vote for BJP(yes or no):\")"
   ]
  },
  {
   "cell_type": "code",
   "execution_count": null,
   "metadata": {},
   "outputs": [],
   "source": []
  },
  {
   "cell_type": "code",
   "execution_count": 14,
   "metadata": {},
   "outputs": [
    {
     "name": "stdout",
     "output_type": "stream",
     "text": [
      "enter name:n\n",
      "enter account details:4\n",
      "enter balance:3\n",
      "password:34r\n"
     ]
    }
   ],
   "source": [
    "Info={'username':[],\n",
    "      'account_number' : [],\n",
    "      'initial_balance' :[],\n",
    "      'password':[],\n",
    "     }\n",
    "username=input(\"enter name:\")\n",
    "account_number=int(input(\"enter account details:\"))\n",
    "inital_balance=int(input(\"enter balance:\"))\n",
    "password=(input(\"password:\"))"
   ]
  },
  {
   "cell_type": "code",
   "execution_count": 15,
   "metadata": {},
   "outputs": [
    {
     "ename": "NameError",
     "evalue": "name 'info' is not defined",
     "output_type": "error",
     "traceback": [
      "\u001b[1;31m---------------------------------------------------------------------------\u001b[0m",
      "\u001b[1;31mNameError\u001b[0m                                 Traceback (most recent call last)",
      "\u001b[1;32m<ipython-input-15-886ead46232a>\u001b[0m in \u001b[0;36m<module>\u001b[1;34m()\u001b[0m\n\u001b[1;32m----> 1\u001b[1;33m \u001b[0minfo\u001b[0m\u001b[1;33m\u001b[0m\u001b[0m\n\u001b[0m",
      "\u001b[1;31mNameError\u001b[0m: name 'info' is not defined"
     ]
    }
   ],
   "source": [
    "info\n"
   ]
  },
  {
   "cell_type": "code",
   "execution_count": 31,
   "metadata": {},
   "outputs": [],
   "source": [
    "Info={'username':[],\n",
    "      'account_number' : [],\n",
    "      'initial_balance' :[],\n",
    "      'password':[],\n",
    "     }\n",
    "acc = 10001"
   ]
  },
  {
   "cell_type": "code",
   "execution_count": 34,
   "metadata": {},
   "outputs": [
    {
     "name": "stdout",
     "output_type": "stream",
     "text": [
      "enter name:heena\n",
      "enter balance:78999\n",
      "password:········\n"
     ]
    }
   ],
   "source": [
    "from getpass import getpass\n",
    "\n",
    "\n",
    "username=input(\"enter name:\")\n",
    "account_number=acc\n",
    "account_number=acc+1\n",
    "initial_balance=float(input(\"enter balance:\"))\n",
    "password=getpass(\"password:\")\n",
    "\n",
    "Info['username'].append(username)\n",
    "Info['account_number'].append(account_number)\n",
    "Info['initial_balance'].append(initial_balance)\n",
    "Info['password'].append(password)\n"
   ]
  },
  {
   "cell_type": "code",
   "execution_count": 35,
   "metadata": {},
   "outputs": [
    {
     "data": {
      "text/plain": [
       "{'username': ['mov', 'heena'],\n",
       " 'account_number': [10002, 10002],\n",
       " 'initial_balance': [78000.0, 78999.0],\n",
       " 'password': ['nji90okm', 'juikm']}"
      ]
     },
     "execution_count": 35,
     "metadata": {},
     "output_type": "execute_result"
    }
   ],
   "source": [
    "Info\n",
    "\n"
   ]
  },
  {
   "cell_type": "code",
   "execution_count": 1,
   "metadata": {},
   "outputs": [],
   "source": [
    "x=['hi',1,2,3,'yes']\n"
   ]
  },
  {
   "cell_type": "code",
   "execution_count": 2,
   "metadata": {},
   "outputs": [
    {
     "data": {
      "text/plain": [
       "True"
      ]
     },
     "execution_count": 2,
     "metadata": {},
     "output_type": "execute_result"
    }
   ],
   "source": [
    "'hi' in x"
   ]
  },
  {
   "cell_type": "code",
   "execution_count": 3,
   "metadata": {},
   "outputs": [
    {
     "data": {
      "text/plain": [
       "False"
      ]
     },
     "execution_count": 3,
     "metadata": {},
     "output_type": "execute_result"
    }
   ],
   "source": [
    "'sourabh' in x"
   ]
  },
  {
   "cell_type": "code",
   "execution_count": 4,
   "metadata": {},
   "outputs": [],
   "source": [
    "# in dictionary it takes only keys then answer will be true"
   ]
  },
  {
   "cell_type": "code",
   "execution_count": null,
   "metadata": {},
   "outputs": [],
   "source": []
  }
 ],
 "metadata": {
  "kernelspec": {
   "display_name": "Python 3",
   "language": "python",
   "name": "python3"
  },
  "language_info": {
   "codemirror_mode": {
    "name": "ipython",
    "version": 3
   },
   "file_extension": ".py",
   "mimetype": "text/x-python",
   "name": "python",
   "nbconvert_exporter": "python",
   "pygments_lexer": "ipython3",
   "version": "3.6.5"
  }
 },
 "nbformat": 4,
 "nbformat_minor": 2
}
