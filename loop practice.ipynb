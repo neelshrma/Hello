{
 "cells": [
  {
   "cell_type": "raw",
   "metadata": {},
   "source": [
    "num =int(input(\"enter a number :\"))\n",
    "print(\"Table of {} is :\".format(num))\n",
    "x=1\n",
    "while x<=10:\n",
    "    print(\"{}*{} is {}\".format(num,x,num*x))\n",
    "    x=x+1"
   ]
  },
  {
   "cell_type": "code",
   "execution_count": 3,
   "metadata": {},
   "outputs": [
    {
     "name": "stdout",
     "output_type": "stream",
     "text": [
      "hello world times 3\n",
      "hello world times 6\n",
      "hello world times 7\n",
      "hello world times 9\n",
      "hello world times 12\n",
      "hello world times 14\n",
      "hello world times 15\n",
      "hello world times 18\n",
      "hello world times 21\n",
      "hello world times 24\n",
      "hello world times 27\n",
      "hello world times 28\n",
      "hello world times 30\n",
      "hello world times 33\n",
      "hello world times 35\n",
      "hello world times 36\n",
      "hello world times 39\n",
      "hello world times 42\n",
      "hello world times 45\n",
      "hello world times 48\n",
      "hello world times 49\n",
      "hello world times 51\n",
      "hello world times 54\n",
      "hello world times 56\n",
      "hello world times 57\n",
      "hello world times 60\n",
      "hello world times 63\n",
      "hello world times 66\n",
      "hello world times 69\n",
      "hello world times 70\n",
      "hello world times 72\n",
      "hello world times 75\n",
      "hello world times 77\n",
      "hello world times 78\n",
      "hello world times 81\n",
      "hello world times 84\n",
      "hello world times 87\n",
      "hello world times 90\n",
      "hello world times 91\n",
      "hello world times 93\n",
      "hello world times 96\n",
      "hello world times 98\n",
      "hello world times 99\n"
     ]
    }
   ],
   "source": [
    "x=1\n",
    "while x<=100:\n",
    "    if x%3==0 or x%7==0 :\n",
    "        print(\"hello world times {}\".format(x))\n",
    "    x=x+1"
   ]
  },
  {
   "cell_type": "code",
   "execution_count": 6,
   "metadata": {},
   "outputs": [
    {
     "data": {
      "text/plain": [
       "2"
      ]
     },
     "execution_count": 6,
     "metadata": {},
     "output_type": "execute_result"
    }
   ],
   "source": [
    "from random import randint\n",
    "randint(1,50)   # will generate random no.\n",
    "num = (\"enter number :\")\n",
    "while num<=50 :\n",
    "    if "
   ]
  },
  {
   "cell_type": "code",
   "execution_count": null,
   "metadata": {},
   "outputs": [],
   "source": [
    "from random import randint\n",
    "commguess = randint(1,50)   # will generate random no.\n",
    "\n",
    "num = int(input(\"enter number :\"))\n",
    "while num<=50 and num :\n",
    "    if :\n",
    "        print (\"you are winner\")\n",
    "    else :\n",
    "        print(\"you have lost\")"
   ]
  },
  {
   "cell_type": "code",
   "execution_count": 26,
   "metadata": {},
   "outputs": [
    {
     "name": "stdout",
     "output_type": "stream",
     "text": [
      "['BPF', 'LOG4', 'NV_MAGICCONST', 'RECIP_BPF', 'Random', 'SG_MAGICCONST', 'SystemRandom', 'TWOPI', '_BuiltinMethodType', '_MethodType', '_Sequence', '_Set', '__all__', '__builtins__', '__cached__', '__doc__', '__file__', '__loader__', '__name__', '__package__', '__spec__', '_acos', '_bisect', '_ceil', '_cos', '_e', '_exp', '_inst', '_itertools', '_log', '_pi', '_random', '_sha512', '_sin', '_sqrt', '_test', '_test_generator', '_urandom', '_warn', 'betavariate', 'choice', 'choices', 'expovariate', 'gammavariate', 'gauss', 'getrandbits', 'getstate', 'lognormvariate', 'normalvariate', 'paretovariate', 'randint', 'random', 'randrange', 'sample', 'seed', 'setstate', 'shuffle', 'triangular', 'uniform', 'vonmisesvariate', 'weibullvariate']\n"
     ]
    }
   ],
   "source": [
    "import random\n",
    "print(dir(random))"
   ]
  },
  {
   "cell_type": "code",
   "execution_count": 28,
   "metadata": {},
   "outputs": [
    {
     "name": "stdout",
     "output_type": "stream",
     "text": [
      "{0: 'sun', 1: 'mon', 2: 'tue', 3: 'wed', 4: 'thu'}\n",
      "['__class__', '__contains__', '__delattr__', '__delitem__', '__dir__', '__doc__', '__eq__', '__format__', '__ge__', '__getattribute__', '__getitem__', '__gt__', '__hash__', '__init__', '__init_subclass__', '__iter__', '__le__', '__len__', '__lt__', '__ne__', '__new__', '__reduce__', '__reduce_ex__', '__repr__', '__setattr__', '__setitem__', '__sizeof__', '__str__', '__subclasshook__', 'clear', 'copy', 'fromkeys', 'get', 'items', 'keys', 'pop', 'popitem', 'setdefault', 'update', 'values']\n"
     ]
    }
   ],
   "source": [
    "d = { \n",
    "    0: 'sun',\n",
    "    1: 'mon',\n",
    "    2: 'tue',\n",
    "    3: 'wed',\n",
    "    4: 'thu',\n",
    "    }\n",
    "print(d)\n",
    "print(dir(d))"
   ]
  },
  {
   "cell_type": "code",
   "execution_count": 32,
   "metadata": {},
   "outputs": [
    {
     "data": {
      "text/plain": [
       "'default'"
      ]
     },
     "execution_count": 32,
     "metadata": {},
     "output_type": "execute_result"
    }
   ],
   "source": [
    "d.get(10,'default')"
   ]
  },
  {
   "cell_type": "code",
   "execution_count": null,
   "metadata": {},
   "outputs": [],
   "source": [
    "week_day = int(input(\"Week day : \"))\n",
    "data = d.get(week_day)\n",
    "\n",
    "if data : \n",
    "    print(data)\n",
    "else : \n",
    "    print(\"mind your input\")"
   ]
  },
  {
   "cell_type": "code",
   "execution_count": 16,
   "metadata": {},
   "outputs": [
    {
     "name": "stdout",
     "output_type": "stream",
     "text": [
      "enter something :rt\n",
      "welcome\n",
      "enter something :ff\n",
      "welcome\n",
      "enter something :\n"
     ]
    }
   ],
   "source": [
    "#data= input(\"enter something :\")\n",
    "while input(\"enter something :\"):\n",
    "    print(\"welcome\")"
   ]
  },
  {
   "cell_type": "code",
   "execution_count": null,
   "metadata": {},
   "outputs": [],
   "source": [
    "x= int(input(\"enter value :\"))\n",
    "copy_x = x\n",
    "factorial=1\n",
    "while x :\n",
    "    factorial = factorial*x\n",
    "    x=x-1\n",
    "    print(\"factorial of {} is {}:\".format(x,factorial))"
   ]
  },
  {
   "cell_type": "code",
   "execution_count": 24,
   "metadata": {},
   "outputs": [
    {
     "name": "stdout",
     "output_type": "stream",
     "text": [
      "hello\n",
      "1\n",
      "2\n",
      "3\n",
      "hi\n",
      "bye bye\n",
      "good to go\n",
      "let'do it\n",
      "7\n",
      "34\n",
      "\n",
      "\n",
      "\n",
      "\n"
     ]
    },
    {
     "ename": "TypeError",
     "evalue": "'<' not supported between instances of 'str' and 'int'",
     "output_type": "error",
     "traceback": [
      "\u001b[1;31m---------------------------------------------------------------------------\u001b[0m",
      "\u001b[1;31mTypeError\u001b[0m                                 Traceback (most recent call last)",
      "\u001b[1;32m<ipython-input-24-baccc898f5d2>\u001b[0m in \u001b[0;36m<module>\u001b[1;34m()\u001b[0m\n\u001b[0;32m      6\u001b[0m     \u001b[0mindex\u001b[0m \u001b[1;33m=\u001b[0m \u001b[0mindex\u001b[0m  \u001b[1;33m+\u001b[0m \u001b[1;36m1\u001b[0m\u001b[1;33m\u001b[0m\u001b[0m\n\u001b[0;32m      7\u001b[0m \u001b[0mprint\u001b[0m\u001b[1;33m(\u001b[0m\u001b[1;34m\"\\n\\n\\n\"\u001b[0m\u001b[1;33m)\u001b[0m\u001b[1;33m\u001b[0m\u001b[0m\n\u001b[1;32m----> 8\u001b[1;33m \u001b[0mcopy_l\u001b[0m\u001b[1;33m.\u001b[0m\u001b[0msort\u001b[0m\u001b[1;33m(\u001b[0m\u001b[0mreverse\u001b[0m\u001b[1;33m=\u001b[0m\u001b[1;32mTrue\u001b[0m\u001b[1;33m)\u001b[0m\u001b[1;33m\u001b[0m\u001b[0m\n\u001b[0m\u001b[0;32m      9\u001b[0m \u001b[1;32mwhile\u001b[0m \u001b[0mindex\u001b[0m \u001b[1;33m>=\u001b[0m \u001b[1;36m0\u001b[0m \u001b[1;33m:\u001b[0m\u001b[1;33m\u001b[0m\u001b[0m\n\u001b[0;32m     10\u001b[0m     \u001b[0mprint\u001b[0m\u001b[1;33m(\u001b[0m\u001b[0ml\u001b[0m\u001b[1;33m[\u001b[0m\u001b[0mindex\u001b[0m\u001b[1;33m]\u001b[0m\u001b[1;33m)\u001b[0m\u001b[1;33m\u001b[0m\u001b[0m\n",
      "\u001b[1;31mTypeError\u001b[0m: '<' not supported between instances of 'str' and 'int'"
     ]
    }
   ],
   "source": [
    "l = [ 'hello',1,2,3,'hi','bye bye','good to go','let\\'do it',7,34,]\n",
    "copy_l = l\n",
    "index = 0\n",
    "while index < len(l) : \n",
    "    print(l[index])\n",
    "    index = index  + 1\n",
    "print(\"\\n\\n\\n\")\n",
    "copy_l.sort(reverse=True)\n",
    "while index >= 0 : \n",
    "    print(l[index])\n",
    "    index -= 1"
   ]
  },
  {
   "cell_type": "code",
   "execution_count": 26,
   "metadata": {},
   "outputs": [
    {
     "name": "stdout",
     "output_type": "stream",
     "text": [
      "[1, 2, 3, 4, 5]\n",
      "[1, 2, 3, 4, 5]\n",
      "[5, 4, 3, 2, 1]\n"
     ]
    }
   ],
   "source": [
    "l=[1,2,3,4,5]\n",
    "ll=l.copy()\n",
    "print(l)\n",
    "print(l.copy())\n",
    "l.sort()\n",
    "ll.sort(reverse=True)\n",
    "print(ll)"
   ]
  },
  {
   "cell_type": "code",
   "execution_count": 1,
   "metadata": {},
   "outputs": [
    {
     "name": "stdout",
     "output_type": "stream",
     "text": [
      "10\n",
      "\n",
      "\n",
      "list in order :\n",
      "hello\n",
      "bye\n",
      "2\n",
      "3\n",
      "hi\n",
      "bye bye\n",
      "good to go\n",
      "let'do it\n",
      "7\n",
      "34\n",
      "\n",
      "\n"
     ]
    }
   ],
   "source": [
    "l = ['hello','bye',2,3,'hi','bye bye','good to go','let\\'do it',7,34,]\n",
    "index = 0\n",
    "print(len(l))\n",
    "print()\n",
    "print()\n",
    "print(\"list in order :\")\n",
    "while index < len(l) :\n",
    "    print(l[index])\n",
    "    index=index+1\n",
    "print()\n",
    "print()\n",
    "index=len(l) -1\n",
    "while index>len(l) :\n",
    "    print(l[index])\n",
    "    index=index-1"
   ]
  },
  {
   "cell_type": "code",
   "execution_count": 8,
   "metadata": {},
   "outputs": [
    {
     "name": "stdout",
     "output_type": "stream",
     "text": [
      "10\n",
      "\n",
      "\n",
      "list in order :\n",
      "hello\n",
      "bye\n",
      "2\n",
      "3\n",
      "hi\n",
      "bye bye\n",
      "good to go\n",
      "let'do it\n",
      "7\n",
      "34\n",
      "\n",
      "\n",
      "34\n",
      "7\n",
      "let'do it\n",
      "good to go\n",
      "bye bye\n",
      "hi\n",
      "3\n",
      "2\n",
      "bye\n"
     ]
    }
   ],
   "source": [
    "l = ['hello','bye',2,3,'hi','bye bye','good to go','let\\'do it',7,34,]\n",
    "index = 0\n",
    "print(len(l))\n",
    "print()\n",
    "print()\n",
    "print(\"list in order :\")\n",
    "while index < len(l) :\n",
    "    print(l[index])\n",
    "    index=index+1\n",
    "print()\n",
    "print()\n",
    "index=len(l) -1\n",
    "while index>=0 :\n",
    "    print(l[index])\n",
    "    index=index-1"
   ]
  },
  {
   "cell_type": "code",
   "execution_count": null,
   "metadata": {},
   "outputs": [],
   "source": [
    "num = int(input(\"Enter a number : \"))\n",
    "copy_num = num\n",
    "fact = 1\n",
    "while num :\n",
    "    fact = fact * num\n",
    "    num = num - 1\n",
    "\n",
    "print(\"Factorial of {} is {}.\".format(copy_num,fact))"
   ]
  },
  {
   "cell_type": "code",
   "execution_count": null,
   "metadata": {},
   "outputs": [],
   "source": [
    "#program to print values 10000 -1, divisible by 3 and 5 and 7 and 9 "
   ]
  },
  {
   "cell_type": "code",
   "execution_count": 14,
   "metadata": {},
   "outputs": [
    {
     "name": "stdout",
     "output_type": "stream",
     "text": [
      "315,630,945,1260,1575,1890,2205,2520,2835,3150,3465,3780,4095,4410,4725,5040,5355,5670,5985,6300,6615,6930,7245,7560,7875,8190,8505,8820,9135,9450,9765,\n",
      "number : 31\n"
     ]
    }
   ],
   "source": [
    "x=1\n",
    "num_counter=0\n",
    "while x<=10000 :\n",
    "    if x%3 == 0 and x%5 == 0 and x%7 == 0 and x%9 == 0 :\n",
    "        print(x,end=',')\n",
    "        num_counter = num_counter + 1\n",
    "    x= x+1\n",
    "    \n",
    "print(\"\\nnumber :\",num_counter)"
   ]
  },
  {
   "cell_type": "code",
   "execution_count": 4,
   "metadata": {},
   "outputs": [
    {
     "data": {
      "text/plain": [
       "11"
      ]
     },
     "execution_count": 4,
     "metadata": {},
     "output_type": "execute_result"
    }
   ],
   "source": [
    "from math import sqrt\n",
    "num = 121\n",
    "round(sqrt(num))"
   ]
  },
  {
   "cell_type": "code",
   "execution_count": null,
   "metadata": {},
   "outputs": [],
   "source": [
    "num = 5\n",
    "check = 2\n",
    "while check <= num -1 :\n",
    "    if num%check == 0 :\n",
    "        #print(\"given no. is not prime no.:\",num)\n",
    "        print(\"{}%{}={}\".format(num,check,num%check))\n",
    "        break\n",
    "        check += 1\n",
    "else :\n",
    "    print(\"Given number {} is a Prime Number.\".format(num))"
   ]
  },
  {
   "cell_type": "code",
   "execution_count": null,
   "metadata": {},
   "outputs": [],
   "source": [
    "x= 'hello'\n",
    "print(x)"
   ]
  },
  {
   "cell_type": "code",
   "execution_count": 2,
   "metadata": {},
   "outputs": [
    {
     "name": "stdout",
     "output_type": "stream",
     "text": [
      "enter value:4\n",
      "no. is : 4\n",
      "no. is : 12\n",
      "no. is : 24\n",
      "no. is : 24\n"
     ]
    }
   ],
   "source": [
    "num=int(input(\"enter value:\"))\n",
    "fact=1\n",
    "while num > 0 :\n",
    "    fact=fact*num\n",
    "    num= num -1\n",
    "    print(\"no. is :\",fact)"
   ]
  },
  {
   "cell_type": "code",
   "execution_count": null,
   "metadata": {},
   "outputs": [
    {
     "name": "stdout",
     "output_type": "stream",
     "text": [
      "enter no. of players :4\n",
      "enter name of player 1 :neel\n",
      "enter name of player 2 :mov\n",
      "enter name of player 3 :avu\n",
      "enter name of player 4 :aadiv\n",
      "\n",
      "\n",
      "here is your players :\n",
      "neel mov avu aadiv\n",
      "enter anything :2\n",
      "finding a person :---\n",
      "person_no. 1 and name is mov :\n",
      "enter anything :3\n",
      "finding a person :---\n",
      "person_no. 0 and name is neel :\n",
      "enter anything :h\n",
      "finding a person :---\n",
      "person_no. 3 and name is aadiv :\n",
      "enter anything :\n"
     ]
    }
   ],
   "source": [
    "from random import choice\n",
    "num=int(input(\"enter no. of players :\"))\n",
    "names = []\n",
    "check = 1\n",
    "while check <= num :\n",
    "    name = input(\"enter name of player {} :\".format(check))\n",
    "    names.append(name)\n",
    "    check =check+1\n",
    "print(\"\\n\")\n",
    "print(\"here is your players :\")\n",
    "print(*names)\n",
    "\n",
    "while input(\"enter anything :\") :\n",
    "    person_name = choice(names)+1\n",
    "    check = names.index(person_name)\n",
    "    print(\"finding a person :---\")\n",
    "    print(\"person_no. {} and name is {} :\".format(check,person_name))"
   ]
  },
  {
   "cell_type": "code",
   "execution_count": null,
   "metadata": {},
   "outputs": [],
   "source": [
    "num1 = int(input(\"enter number1 :\"))\n",
    "num2 = int(input(\"enter number2 :\"))\n",
    "while num2>=num1 :\n",
    "    HCF = num2 == 0 and num1\n",
    "    print(\"value of HCF :\",HCF)\n",
    "    break\n",
    "if num1>=num2 :\n",
    "    HCF = num1% num2\n",
    "    print(\"value of HCF :\",HCF)"
   ]
  },
  {
   "cell_type": "code",
   "execution_count": 19,
   "metadata": {},
   "outputs": [
    {
     "name": "stdout",
     "output_type": "stream",
     "text": [
      "enter number :371\n",
      "this is armstrong no.\n"
     ]
    }
   ],
   "source": [
    "#armstrong\n",
    "\n",
    "num = int(input(\"enter number :\"))\n",
    "num_copy=num\n",
    "pow = 0\n",
    "while num :\n",
    "    num = num//10\n",
    "    pow = pow + 1\n",
    "    \n",
    "num=num_copy\n",
    "armstrong = 0\n",
    "while num :\n",
    "    x = num%10\n",
    "    armstrong = armstrong + x**pow\n",
    "    num =num//10\n",
    "if armstrong == num_copy :\n",
    "    print(\"this is armstrong no.\", )\n",
    "else :\n",
    "    print(\"this is not armstrong no.\")"
   ]
  },
  {
   "cell_type": "code",
   "execution_count": 29,
   "metadata": {},
   "outputs": [
    {
     "name": "stdout",
     "output_type": "stream",
     "text": [
      "1\n",
      "2\n",
      "3\n",
      "4\n",
      "5\n",
      "hello\n",
      "\n",
      "hello\n",
      "5\n",
      "4\n",
      "3\n",
      "2\n",
      "1\n"
     ]
    }
   ],
   "source": [
    "x= [1,2,3,4,5,'hello']\n",
    "x_copy= x\n",
    "index = 0\n",
    "while index<len(x) :\n",
    "    print(x[index])\n",
    "    index= index+1\n",
    "print()\n",
    "index= len(x) - 1\n",
    "while index>=0 :\n",
    "    print(x[index])\n",
    "    index=index-1"
   ]
  },
  {
   "cell_type": "code",
   "execution_count": 38,
   "metadata": {},
   "outputs": [
    {
     "name": "stdout",
     "output_type": "stream",
     "text": [
      "enter end point :5\n",
      "s : 0\n",
      "s : 1\n",
      "s : 1\n",
      "s : 2\n",
      "s : 3\n"
     ]
    }
   ],
   "source": [
    "# fibnocci series\n",
    "\n",
    "s= 0\n",
    "n=1\n",
    "e= int(input(\"enter end point :\"))\n",
    "count = 0\n",
    "while count<e :\n",
    "    print(\"s :\",s)\n",
    "    #print(\"fibnocci series :\")\n",
    "    fibnocci = s+n\n",
    "    s = n\n",
    "    n = fibnocci\n",
    "    count = count+1"
   ]
  },
  {
   "cell_type": "code",
   "execution_count": 39,
   "metadata": {},
   "outputs": [
    {
     "data": {
      "text/plain": [
       "1"
      ]
     },
     "execution_count": 39,
     "metadata": {},
     "output_type": "execute_result"
    }
   ],
   "source": [
    "1%2"
   ]
  },
  {
   "cell_type": "code",
   "execution_count": 40,
   "metadata": {},
   "outputs": [
    {
     "data": {
      "text/plain": [
       "1"
      ]
     },
     "execution_count": 40,
     "metadata": {},
     "output_type": "execute_result"
    }
   ],
   "source": [
    "3%2"
   ]
  },
  {
   "cell_type": "code",
   "execution_count": 41,
   "metadata": {},
   "outputs": [
    {
     "name": "stdout",
     "output_type": "stream",
     "text": [
      "hello 2\n",
      "hello 4\n",
      "hello 6\n",
      "hello 8\n",
      "hello 10\n",
      "hey\n"
     ]
    }
   ],
   "source": [
    "i=1\n",
    "while i <=10 :\n",
    "    if i%2 :\n",
    "        i=i+1\n",
    "        continue\n",
    "    print(\"hello {}\".format(i))\n",
    "    i =i+1\n",
    "else :\n",
    "    print(\"hey\")"
   ]
  },
  {
   "cell_type": "code",
   "execution_count": 3,
   "metadata": {},
   "outputs": [
    {
     "name": "stdout",
     "output_type": "stream",
     "text": [
      "*\n",
      "**\n",
      "***\n",
      "****\n",
      "*****\n",
      "******\n"
     ]
    }
   ],
   "source": [
    "row = 0\n",
    "while row <= 5: \n",
    "    column = 0\n",
    "    while column <= row :\n",
    "        print(\"*\",end='')\n",
    "        column += 1\n",
    "    print()\n",
    "    row += 1"
   ]
  },
  {
   "cell_type": "code",
   "execution_count": null,
   "metadata": {},
   "outputs": [],
   "source": []
  }
 ],
 "metadata": {
  "kernelspec": {
   "display_name": "Python 3",
   "language": "python",
   "name": "python3"
  },
  "language_info": {
   "codemirror_mode": {
    "name": "ipython",
    "version": 3
   },
   "file_extension": ".py",
   "mimetype": "text/x-python",
   "name": "python",
   "nbconvert_exporter": "python",
   "pygments_lexer": "ipython3",
   "version": "3.6.5"
  }
 },
 "nbformat": 4,
 "nbformat_minor": 2
}
