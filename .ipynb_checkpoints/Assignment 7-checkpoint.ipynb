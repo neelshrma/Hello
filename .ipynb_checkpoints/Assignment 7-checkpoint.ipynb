{
 "cells": [
  {
   "cell_type": "code",
   "execution_count": 1,
   "metadata": {},
   "outputs": [
    {
     "name": "stdout",
     "output_type": "stream",
     "text": [
      "Enter your age : 6\n",
      "You are not able to take loan from our bank.\n",
      "Your should be more than 18.\n"
     ]
    }
   ],
   "source": [
    "age = int(input(\"Enter your age : \"))\n",
    "\n",
    "if age <= 18 : \n",
    "    print(\"You are not able to take loan from our bank.\")\n",
    "    print(\"Your should be more than 18.\")\n",
    "else : \n",
    "    print(\"Income Sources : \\n1. Private\\n2. Government \")\n",
    "    income = int(input(\"Enter your income source : \"))\n",
    "    if income == 1 : \n",
    "        print(\"You have lower chances\")\n",
    "        pass # do all according to private sector\n",
    "    elif income == 2  : \n",
    "        print(\"You have higher chance\")\n",
    "    else : \n",
    "        print(\"Don't be over smart get lost\")"
   ]
  },
  {
   "cell_type": "code",
   "execution_count": 7,
   "metadata": {},
   "outputs": [
    {
     "ename": "SyntaxError",
     "evalue": "invalid syntax (<ipython-input-7-dc3ee219e4cf>, line 24)",
     "output_type": "error",
     "traceback": [
      "\u001b[1;36m  File \u001b[1;32m\"<ipython-input-7-dc3ee219e4cf>\"\u001b[1;36m, line \u001b[1;32m24\u001b[0m\n\u001b[1;33m    elif turn_over >='10000000' :\u001b[0m\n\u001b[1;37m       ^\u001b[0m\n\u001b[1;31mSyntaxError\u001b[0m\u001b[1;31m:\u001b[0m invalid syntax\n"
     ]
    }
   ],
   "source": [
    "age=int(input(\"enter your age:\"))\n",
    "if age>=18 :\n",
    "    print(\"you are eligible to take loan from bank.\")\n",
    "    print(\"Income resources: \\n1 Private_sector\\n2 Government\")\n",
    "    income = int(input(\"enter your income source:\"))\n",
    "    if income == 1 :\n",
    "        print(\"you have lower chance.\")\n",
    "        print(\"private sector: \\n1.1 Buisness\\n1.2 Public\")\n",
    "        private = input(\"enter the sector:\")\n",
    "        if private == '1.1' :\n",
    "            print(\"Buisness\")\n",
    "            print(\"Buisness: \\n1.1.1 Small\\n1.1.2 Medium\\n1.1.3 Big\")\n",
    "            Buisness= input(\"enter type of buisness:\")\n",
    "            if Buisness == '1.1.1' :\n",
    "                print(\"Small\")\n",
    "                turn_over = input(\"Please enter yearly turn over :\")\n",
    "                if turn_over >='3000000' :\n",
    "                    print(\"you are eligible for loan upto 10 lakhs.\")\n",
    "                else :\n",
    "                    print(\"you are not eligible for loan upto 10 lakhs.\")        \n",
    "            elif Buisness == '1.1.2' :\n",
    "                print(\"Medium\")\n",
    "                turn_over = input(\"Please enter yearly turn over :\")\n",
    "                if turn_over >='10000000' :\n",
    "                    print(\"you are eligible for loan upto 50 lakhs.\")\n",
    "                else:\n",
    "                    print(\"you are not eligible for loan upto 50 lakhs.\")                 \n",
    "            elif Buisness == '1.1.3' :\n",
    "                print(\"Big\")\n",
    "                turn_over = input(\"Please enter yearly turn over :\")\n",
    "                if turn_over >= '100000000':\n",
    "                    print(\"you are eligible for loan upto 2 crore.\")\n",
    "                else :\n",
    "                    print(\"you are not eligible for loan upto 2 crore.\")                        \n",
    "            else :\n",
    "                print(\"you have entered wrong keyword\")\n",
    "        elif private =='1.2' :\n",
    "            print(\"public\")\n",
    "            pass\n",
    "            salary = (input(\"enter your monthly income:\"))\n",
    "            if salary >='40000' :\n",
    "                print(\"you are eligible for loan upto 1 lakh.\")\n",
    "            else :\n",
    "                print(\"you are not eligible for loan upto 1 lakh.\")\n",
    "            if salary >='40000' or salary >='80000':\n",
    "                print(\"you are eligible for loan upto 8 lakhs.\")\n",
    "            else :\n",
    "                print(\"you are not eligible for loan upto 8 lakhs.\")\n",
    "            if salary >='80000' and salary >='200000' :\n",
    "                print(\"you are eligible for loan upto 15 lakhs.\")\n",
    "            else :\n",
    "                print(\"you are not eligible for loan upto 15 lakhs.\")         \n",
    "        else :\n",
    "            print(\"you have entered wrong keyword\")\n",
    "    elif income==2 :\n",
    "        print(\"you have higher chance\")\n",
    "        print(\"Government: \\n2.1. Grade 1\\n2.2. Grade 2\\n2.3. Grade 3\")\n",
    "        Government = input(\"enter the grade:\")\n",
    "        if Government == '2.1' :\n",
    "            print(\"Grade 1\")\n",
    "            salary = input(\"enter your salary:\")\n",
    "            if salary >='40000' :\n",
    "                print(\"you are eligible for loan upto 5 lakhs.\")\n",
    "            else :\n",
    "                print(\"you are not eligible for loan upto 5 lakhs.\")\n",
    "        elif Government == '2.2' :\n",
    "            print(\"Grade 2\")\n",
    "            salary = input(\"enter your salary:\")\n",
    "            if salary >='40000' or salary >='80000' :\n",
    "                print(\"you are eligible for loan upto 10 lakhs.\")\n",
    "            else :\n",
    "                print(\"you are not eligible for loan upto 10 lakhs.\")\n",
    "        elif Government == '2.3' :\n",
    "            print(\"Grade 3\")\n",
    "            salary = input(\"enter your salary:\")\n",
    "            if salary >= '80000' and salary >='200000' :\n",
    "                print(\"you are eligible for loan upto 20 lakhs.\")\n",
    "            else :\n",
    "                print(\"you are not eligible for loan upto 20 lakhs.\")\n",
    "        else :\n",
    "            print(\"you have entered wrong keyword\")\n",
    "    else :\n",
    "        print(\"bank cannot give you loan.\")\n",
    "            \n",
    "else :\n",
    "    print(\"you are not eligible for loan.\")"
   ]
  },
  {
   "cell_type": "code",
   "execution_count": null,
   "metadata": {},
   "outputs": [],
   "source": [
    "#assignment - 7"
   ]
  },
  {
   "cell_type": "code",
   "execution_count": 16,
   "metadata": {},
   "outputs": [
    {
     "name": "stdout",
     "output_type": "stream",
     "text": [
      "enter number x:5\n",
      "enter number y:6\n",
      "y is greater.\n"
     ]
    }
   ],
   "source": [
    "x = int(input(\"enter number x:\"))\n",
    "y = int(input(\"enter number y:\"))\n",
    "if x>y :\n",
    "    print(\"x is greater.\")\n",
    "else :\n",
    "    print(\"y is greater.\")"
   ]
  },
  {
   "cell_type": "code",
   "execution_count": 20,
   "metadata": {},
   "outputs": [
    {
     "name": "stdout",
     "output_type": "stream",
     "text": [
      "enter number x:8\n",
      "enter number y :4\n",
      "enter number z :6\n",
      "x is greater.\n"
     ]
    }
   ],
   "source": [
    "x = int(input(\"enter number x:\"))\n",
    "y = int(input(\"enter number y :\"))\n",
    "z = int(input(\"enter number z :\"))\n",
    "if x>y and x>z:\n",
    "    print(\"x is greater.\")\n",
    "elif y>z :\n",
    "        print(\"y is greater.\")\n",
    "else :\n",
    "            print(\"z is greater.\")"
   ]
  },
  {
   "cell_type": "code",
   "execution_count": 42,
   "metadata": {},
   "outputs": [
    {
     "name": "stdout",
     "output_type": "stream",
     "text": [
      "enter number x :-7\n",
      "x is negative.\n"
     ]
    }
   ],
   "source": [
    "x= input(\"enter number x :\")\n",
    "if x>'0' :\n",
    "    print(\"x is positive.\")\n",
    "elif x=='0' :\n",
    "    print(\"x is zero.\")\n",
    "else :\n",
    "    print(\"x is negative.\")   "
   ]
  },
  {
   "cell_type": "code",
   "execution_count": 18,
   "metadata": {},
   "outputs": [
    {
     "name": "stdout",
     "output_type": "stream",
     "text": [
      "enter number:9\n",
      "its not divisible.\n"
     ]
    }
   ],
   "source": [
    "#number is divisible by 5 and 11 .\n",
    "\n",
    "x = int(input(\"enter number:\"))\n",
    "if x%5 == 0 :\n",
    "    print(\"x is divisible by 5.\")\n",
    "elif x%11 == 0:\n",
    "    print(\"n is divisible by 11.\")\n",
    "else :\n",
    "    print(\"its not divisible.\")"
   ]
  },
  {
   "cell_type": "code",
   "execution_count": 15,
   "metadata": {},
   "outputs": [
    {
     "name": "stdout",
     "output_type": "stream",
     "text": [
      "enter number:3\n",
      "x is odd.\n"
     ]
    }
   ],
   "source": [
    "# no. is odd or even.\n",
    "\n",
    "x= int(input(\"enter number:\"))\n",
    "if x% 2== 0:\n",
    "    print(\"x is even.\")\n",
    "else:\n",
    "    print(\"x is odd.\")"
   ]
  },
  {
   "cell_type": "code",
   "execution_count": 20,
   "metadata": {},
   "outputs": [
    {
     "name": "stdout",
     "output_type": "stream",
     "text": [
      "enter year:2020\n",
      "this is a leap year.\n"
     ]
    }
   ],
   "source": [
    "# year is leap year or not\n",
    "\n",
    "x=int(input(\"enter year:\"))\n",
    "if x%4==0:\n",
    "    print(\"this is a leap year.\")\n",
    "else :\n",
    "    print(\"this is not leap year.\")"
   ]
  },
  {
   "cell_type": "code",
   "execution_count": 10,
   "metadata": {},
   "outputs": [
    {
     "name": "stdout",
     "output_type": "stream",
     "text": [
      "enter a character:^\n",
      "this is not alphabet.\n"
     ]
    }
   ],
   "source": [
    "# to check whether a character is alphabet or not...\n",
    "\n",
    "x=input(\"enter a character:\")\n",
    "if x>='A' and x<='Z':\n",
    "    print(\"alphabet\")\n",
    "elif x>='a' and x<='z' :\n",
    "    print(\"alphabet\")\n",
    "else :\n",
    "    print(\"this is not alphabet.\")"
   ]
  },
  {
   "cell_type": "code",
   "execution_count": 95,
   "metadata": {},
   "outputs": [
    {
     "name": "stdout",
     "output_type": "stream",
     "text": [
      "enter any character:8\n",
      "8 is not alphabet,its digit\n"
     ]
    }
   ],
   "source": [
    "#to check vowel and consonent\n",
    "x=input(\"enter any character:\")\n",
    "if (x=='a'or x=='A' or x=='e'or x=='E' or x=='i' or x=='I' or x=='o' or x=='O' or x=='u' or x=='U'):\n",
    "    print(\"{} is vowel.\".format(x))\n",
    "elif (x>='a' and x<='z') or (x>='A' and x<='Z'):\n",
    "    print(\"{} is consonent\".format(x))\n",
    "elif x>='0' :\n",
    "    print(\"{} is not alphabet,its digit\".format(x))\n",
    "else :\n",
    "    print(\"other character\")"
   ]
  },
  {
   "cell_type": "code",
   "execution_count": 41,
   "metadata": {},
   "outputs": [
    {
     "name": "stdout",
     "output_type": "stream",
     "text": [
      "enter any character :*\n",
      "* is special character\n"
     ]
    }
   ],
   "source": [
    "#input any character and check whether a character is alphabet ,digit or special character...\n",
    "\n",
    "x=input(\"enter any character :\")\n",
    "if (x>='a' and x<='z') or (x>='A' and x<='Z') :\n",
    "    print(\"{} is alphabet.\".format(x))\n",
    "elif x>='0':\n",
    "    print(\"{} is digit.\".format(x))\n",
    "else :\n",
    "    print(\"{} is special character\".format(x))"
   ]
  },
  {
   "cell_type": "code",
   "execution_count": 104,
   "metadata": {},
   "outputs": [
    {
     "name": "stdout",
     "output_type": "stream",
     "text": [
      "enter any character:OP\n",
      "OP is uppercase.\n"
     ]
    }
   ],
   "source": [
    "#to check whether a character is upper case or lower case\n",
    "\n",
    "x=input(\"enter any character:\")\n",
    "if x.isupper() :\n",
    "    print(\"{} is uppercase.\".format(x))\n",
    "elif x.islower() :\n",
    "    print(\"{} is lowercase.\".format(x))\n",
    "else :\n",
    "    print(\"its something else.\")"
   ]
  },
  {
   "cell_type": "code",
   "execution_count": 107,
   "metadata": {},
   "outputs": [
    {
     "name": "stdout",
     "output_type": "stream",
     "text": [
      "enter week number:8\n",
      "wrong number\n"
     ]
    }
   ],
   "source": [
    "# to input week number and print week day\n",
    "\n",
    "x=input(\"enter week number:\")\n",
    "if x=='1' :\n",
    "    print(\"Monday\")\n",
    "elif x=='2' :\n",
    "    print(\"Tuesday\")\n",
    "elif x=='3' :\n",
    "    print(\"Wednesday\")\n",
    "elif x=='4' :\n",
    "    print(\"Thursday\")\n",
    "elif x=='5' :\n",
    "    print(\"Friday\")\n",
    "elif x=='6' :\n",
    "    print(\"Saturday\")\n",
    "elif x=='7' :\n",
    "    print(\"Sunday\")\n",
    "else :\n",
    "    print(\"wrong number\")"
   ]
  },
  {
   "cell_type": "code",
   "execution_count": 109,
   "metadata": {},
   "outputs": [
    {
     "name": "stdout",
     "output_type": "stream",
     "text": [
      "enter month number:13\n",
      "monthly no. is exceeded, SORRY.\n"
     ]
    }
   ],
   "source": [
    "# to input month number and print no. of days in that month\n",
    "\n",
    "x=input(\"enter month number:\")\n",
    "if x=='1' :\n",
    "    print(\"31\")\n",
    "elif x=='2' :\n",
    "    print(\"28 or 29\")\n",
    "elif x=='3' :\n",
    "    print(\"31\")\n",
    "elif x=='4' :\n",
    "    print(\"30\")\n",
    "elif x=='5' :\n",
    "    print(\"31\")\n",
    "elif x=='6' :\n",
    "    print(\"30\")\n",
    "elif x=='7' :\n",
    "    print(\"31\")\n",
    "elif x=='8' :\n",
    "    print(\"31\")\n",
    "elif x=='9' :\n",
    "    print(\"30\")\n",
    "elif x=='10' :\n",
    "    print(\"31\")\n",
    "elif x=='11' :\n",
    "    print(\"30\")\n",
    "elif x=='12' :\n",
    "    print(\"31\")\n",
    "else :\n",
    "    print(\"monthly no. is exceeded, SORRY.\")"
   ]
  },
  {
   "cell_type": "code",
   "execution_count": 18,
   "metadata": {},
   "outputs": [
    {
     "name": "stdout",
     "output_type": "stream",
     "text": [
      "enter any amount:700\n",
      "0\n"
     ]
    }
   ],
   "source": [
    "#to count total no. of notes in given amount.\n",
    "notes =('2000','500','100','50','20','10')\n",
    "x = input(\"enter any amount:\")\n",
    "x=x.count('notes')\n",
    "print(x)\n",
    "\n",
    "#print(x)"
   ]
  },
  {
   "cell_type": "code",
   "execution_count": 134,
   "metadata": {},
   "outputs": [
    {
     "name": "stdout",
     "output_type": "stream",
     "text": [
      "enter selling price:400\n",
      "enter cost price:500\n",
      "400 - 500 = -100\n",
      "loss\n"
     ]
    }
   ],
   "source": [
    "#to calculate profit or loss\n",
    "\n",
    "selling_price = int(input(\"enter selling price:\"))\n",
    "cost_price = int(input(\"enter cost price:\"))\n",
    "profit = selling_price - cost_price\n",
    "print(\"{} - {} = {}\".format(selling_price,cost_price,profit))\n",
    "if (selling_price > cost_price) :\n",
    "    print(\"profit\")\n",
    "elif (cost_price> selling_price) :\n",
    "    print(\"loss\")\n",
    "else :\n",
    "    print(\"draw\")"
   ]
  },
  {
   "cell_type": "code",
   "execution_count": 10,
   "metadata": {},
   "outputs": [
    {
     "name": "stdout",
     "output_type": "stream",
     "text": [
      "enter total no. of marks:500\n",
      "physics :55\n",
      "chemistry :77\n",
      "biology:88\n",
      "mathematics :88\n",
      "computer :96\n",
      "sum_of_all_subjects : 404.0\n",
      "percentage : 80.80000000000001\n",
      "Grade B\n"
     ]
    }
   ],
   "source": [
    "#input marks of five subjects.Calculate % and grade :\n",
    "total =int(input(\"enter total no. of marks:\"))\n",
    "physics = float(input(\"physics :\"))\n",
    "chemistry = float(input(\"chemistry :\"))\n",
    "biology = float(input(\"biology:\"))\n",
    "mathematics = float(input(\"mathematics :\"))\n",
    "computer = float(input(\"computer :\"))\n",
    "sum_of_all_subjects = physics+chemistry+biology+mathematics+computer\n",
    "print(\"sum_of_all_subjects :\",sum_of_all_subjects)\n",
    "percentage=sum_of_all_subjects/total*100\n",
    "print(\"percentage :\",percentage)\n",
    "if (percentage>=90) :\n",
    "    print(\"Grade A\")\n",
    "elif (percentage>=80) :\n",
    "    print(\"Grade B\")\n",
    "elif (percentage>=70) :\n",
    "    print(\"Grade C\")\n",
    "elif (percentage>=60) :\n",
    "    print(\"Grade D\")\n",
    "elif (percentage>=40) :\n",
    "    print(\"Grade E\")\n",
    "elif (pecentage<=40) :\n",
    "    print(\"Grade F\")\n",
    "else :\n",
    "    print(\"Advise you to repeat section.\")"
   ]
  },
  {
   "cell_type": "code",
   "execution_count": 25,
   "metadata": {},
   "outputs": [
    {
     "name": "stdout",
     "output_type": "stream",
     "text": [
      "enter basic salary :30000\n",
      "Gross salary= 30000 - 30% - 95% * 12\n"
     ]
    }
   ],
   "source": [
    "x=int(input(\"enter basic salary :\"))\n",
    "if x<=10000 :\n",
    "    print(\"Gross salary= {} - {} - {} * 12\".format(x,'20%','80%'))\n",
    "elif x<=20000 :\n",
    "    print(\"Gross salary= {} - {} - {} * 12\".format(x,'25%','90%'))\n",
    "elif x>20000 :\n",
    "    print(\"Gross salary= {} - {} - {} * 12\".format(x,'30%','95%'))\n",
    "else :\n",
    "    print(\"please enter correct value\")"
   ]
  },
  {
   "cell_type": "code",
   "execution_count": 20,
   "metadata": {},
   "outputs": [],
   "source": [
    "i couldn't understand below programs, will discuss tomorrow in the class. :\n",
    "\n",
    "# count total no. of notes in given amount.\n",
    "# to input angles of triangle and check whether triangle is valid or not\n",
    "# to input all sides of triangle and check whether triangle is valid or not\n",
    "# to check whether triangle is equilateral,iscoceles or scalene triangle\n",
    "# to find all roots of quadratic equation\n",
    "# to input basic sal of an employee and calculate its gross salary\n",
    "# to input electricity unit charges and calculate total electricity bill."
   ]
  },
  {
   "cell_type": "code",
   "execution_count": null,
   "metadata": {},
   "outputs": [],
   "source": []
  }
 ],
 "metadata": {
  "kernelspec": {
   "display_name": "Python 3",
   "language": "python",
   "name": "python3"
  },
  "language_info": {
   "codemirror_mode": {
    "name": "ipython",
    "version": 3
   },
   "file_extension": ".py",
   "mimetype": "text/x-python",
   "name": "python",
   "nbconvert_exporter": "python",
   "pygments_lexer": "ipython3",
   "version": "3.6.5"
  }
 },
 "nbformat": 4,
 "nbformat_minor": 2
}
