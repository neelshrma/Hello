{
 "cells": [
  {
   "cell_type": "code",
   "execution_count": 1,
   "metadata": {},
   "outputs": [
    {
     "name": "stdout",
     "output_type": "stream",
     "text": [
      "Enter your age : 6\n",
      "You are not able to take loan from our bank.\n",
      "Your should be more than 18.\n"
     ]
    }
   ],
   "source": [
    "age = int(input(\"Enter your age : \"))\n",
    "\n",
    "if age <= 18 : \n",
    "    print(\"You are not able to take loan from our bank.\")\n",
    "    print(\"Your should be more than 18.\")\n",
    "else : \n",
    "    print(\"Income Sources : \\n1. Private\\n2. Government \")\n",
    "    income = int(input(\"Enter your income source : \"))\n",
    "    if income == 1 : \n",
    "        print(\"You have lower chances\")\n",
    "        pass # do all according to private sector\n",
    "    elif income == 2  : \n",
    "        print(\"You have higher chance\")\n",
    "    else : \n",
    "        print(\"Don't be over smart get lost\")"
   ]
  },
  {
   "cell_type": "code",
   "execution_count": 2,
   "metadata": {},
   "outputs": [
    {
     "name": "stdout",
     "output_type": "stream",
     "text": [
      "enter your age:19\n",
      "you are eligible to take loan from bank.\n",
      "Income resources: \n",
      "1 Private_sector\n",
      "2 Government\n",
      "enter your income source:1\n",
      "you have lower chance.\n",
      "private sector: \n",
      "1.1 Buisness\n",
      "1.2 Public\n",
      "enter the sector:1.1\n",
      "Buisness\n",
      "Buisness: \n",
      "1.1.1 Small\n",
      "1.1.2 Medium\n",
      "1.1.3 Big\n",
      "enter type of buisness:1.1.3\n",
      "Big\n",
      "Please enter yearly turn over :1000000000000000\n",
      "you are eligible for loan upto 2 crore.\n"
     ]
    }
   ],
   "source": [
    "age=int(input(\"enter your age:\"))\n",
    "if age>=18 :\n",
    "    print(\"you are eligible to take loan from bank.\")\n",
    "    print(\"Income resources: \\n1 Private_sector\\n2 Government\")\n",
    "    income = int(input(\"enter your income source:\"))\n",
    "    if income == 1 :\n",
    "        print(\"you have lower chance.\")\n",
    "        print(\"private sector: \\n1.1 Buisness\\n1.2 Public\")\n",
    "        private = input(\"enter the sector:\")\n",
    "        if private == '1.1' :\n",
    "            print(\"Buisness\")\n",
    "            print(\"Buisness: \\n1.1.1 Small\\n1.1.2 Medium\\n1.1.3 Big\")\n",
    "            Buisness= input(\"enter type of buisness:\")\n",
    "            if Buisness == '1.1.1' :\n",
    "                print(\"Small\")\n",
    "                turn_over = input(\"Please enter yearly turn over :\")\n",
    "                if ('turn_over' >='3000000') :\n",
    "                    print(\"you are eligible for loan upto 10 lakhs.\")\n",
    "                else :\n",
    "                    print(\"you are not eligible for loan upto 10 lakhs.\")        \n",
    "            elif Buisness == '1.1.2' :\n",
    "                print(\"Medium\")\n",
    "                turn_over = input(\"Please enter yearly turn over :\")\n",
    "                if ('turn_over' >='10000000') :\n",
    "                    print(\"you are eligible for loan upto 50 lakhs.\")\n",
    "                else:\n",
    "                    print(\"you are not eligible for loan upto 50 lakhs.\")                 \n",
    "            elif Buisness == '1.1.3' :\n",
    "                print(\"Big\")\n",
    "                turn_over = input(\"Please enter yearly turn over :\")\n",
    "                if ('turn_over' >= '100000000'):\n",
    "                    print(\"you are eligible for loan upto 2 crore.\")\n",
    "                else :\n",
    "                    print(\"you are not eligible for loan upto 2 crore.\")                        \n",
    "            else :\n",
    "                print(\"you have entered wrong keyword\")\n",
    "        elif private =='1.2' :\n",
    "            print(\"public\")\n",
    "            pass\n",
    "            salary = (input(\"enter your monthly income:\"))\n",
    "            if salary >='40000' :\n",
    "                print(\"you are eligible for loan upto 1 lakh.\")\n",
    "            else :\n",
    "                print(\"you are not eligible for loan upto 1 lakh.\")\n",
    "            if (salary >'40000' or salary >='80000'):\n",
    "                print(\"you are eligible for loan upto 8 lakhs.\")\n",
    "            else :\n",
    "                print(\"you are not eligible for loan upto 8 lakhs.\")\n",
    "            if (salary >'80000' or salary >='200000') :\n",
    "                print(\"you are eligible for loan upto 15 lakhs.\")\n",
    "            else :\n",
    "                print(\"you are not eligible for loan upto 15 lakhs.\")         \n",
    "        else :\n",
    "            print(\"you have entered wrong keyword\")\n",
    "    elif income==2 :\n",
    "        print(\"you have higher chance\")\n",
    "        print(\"Government: \\n2.1. Grade 1\\n2.2. Grade 2\\n2.3. Grade 3\")\n",
    "        Government = input(\"enter the grade:\")\n",
    "        if Government == '2.1' :\n",
    "            print(\"Grade 1\")\n",
    "            salary = input(\"enter your salary:\")\n",
    "            if salary >='40000' :\n",
    "                print(\"you are eligible for loan upto 5 lakhs.\")\n",
    "            else :\n",
    "                print(\"you are not eligible for loan upto 5 lakhs.\")\n",
    "        elif Government == '2.2' :\n",
    "            print(\"Grade 2\")\n",
    "            salary = input(\"enter your salary:\")\n",
    "            if salary >'40000' or salary >='80000' :\n",
    "                print(\"you are eligible for loan upto 10 lakhs.\")\n",
    "            else :\n",
    "                print(\"you are not eligible for loan upto 10 lakhs.\")\n",
    "        elif Government == '2.3' :\n",
    "            print(\"Grade 3\")\n",
    "            salary = input(\"enter your salary:\")\n",
    "            if (salary >'80000' or salary >='200000') :\n",
    "                print(\"you are eligible for loan upto 20 lakhs.\")\n",
    "            else :\n",
    "                print(\"you are not eligible for loan upto 20 lakhs.\")\n",
    "        else :\n",
    "            print(\"you have entered wrong keyword\")\n",
    "    else :\n",
    "        print(\"bank cannot give you loan.\")\n",
    "            \n",
    "else :\n",
    "    print(\"you are not eligible for loan.\")"
   ]
  },
  {
   "cell_type": "code",
   "execution_count": null,
   "metadata": {},
   "outputs": [],
   "source": []
  },
  {
   "cell_type": "code",
   "execution_count": 2,
   "metadata": {},
   "outputs": [],
   "source": [
    "Bank = {\n",
    "    'user' : [] ,\n",
    "    'password' : [] ,\n",
    "    'name' : [] ,\n",
    "    'balance' : [] ,\n",
    "    'account_number' : [] ,\n",
    "}"
   ]
  },
  {
   "cell_type": "code",
   "execution_count": 4,
   "metadata": {},
   "outputs": [
    {
     "name": "stdout",
     "output_type": "stream",
     "text": [
      "enter your username :neel.shrma\n",
      "enter your password :········\n",
      "enter your name :nilofar \n",
      "enter your balance amount :10000\n"
     ]
    },
    {
     "ename": "NameError",
     "evalue": "name 'acc' is not defined",
     "output_type": "error",
     "traceback": [
      "\u001b[1;31m---------------------------------------------------------------------------\u001b[0m",
      "\u001b[1;31mNameError\u001b[0m                                 Traceback (most recent call last)",
      "\u001b[1;32m<ipython-input-4-ce98cbab15d8>\u001b[0m in \u001b[0;36m<module>\u001b[1;34m()\u001b[0m\n\u001b[0;32m      4\u001b[0m \u001b[0mname\u001b[0m\u001b[1;33m=\u001b[0m \u001b[0minput\u001b[0m\u001b[1;33m(\u001b[0m\u001b[1;34m\"enter your name :\"\u001b[0m\u001b[1;33m)\u001b[0m\u001b[1;33m\u001b[0m\u001b[0m\n\u001b[0;32m      5\u001b[0m \u001b[0mbalance\u001b[0m \u001b[1;33m=\u001b[0m \u001b[0mfloat\u001b[0m\u001b[1;33m(\u001b[0m\u001b[0minput\u001b[0m\u001b[1;33m(\u001b[0m\u001b[1;34m\"enter your balance amount :\"\u001b[0m\u001b[1;33m)\u001b[0m\u001b[1;33m)\u001b[0m\u001b[1;33m\u001b[0m\u001b[0m\n\u001b[1;32m----> 6\u001b[1;33m \u001b[0macc_no\u001b[0m \u001b[1;33m=\u001b[0m \u001b[0macc\u001b[0m\u001b[1;33m\u001b[0m\u001b[0m\n\u001b[0m\u001b[0;32m      7\u001b[0m \u001b[0macc\u001b[0m \u001b[1;33m=\u001b[0m \u001b[0macc\u001b[0m\u001b[1;33m+\u001b[0m\u001b[1;36m1\u001b[0m\u001b[1;33m\u001b[0m\u001b[0m\n\u001b[0;32m      8\u001b[0m \u001b[0mbank\u001b[0m\u001b[1;33m[\u001b[0m\u001b[1;34m'user'\u001b[0m\u001b[1;33m]\u001b[0m\u001b[1;33m.\u001b[0m\u001b[0mappend\u001b[0m\u001b[1;33m(\u001b[0m\u001b[0muser\u001b[0m\u001b[1;33m)\u001b[0m\u001b[1;33m\u001b[0m\u001b[0m\n",
      "\u001b[1;31mNameError\u001b[0m: name 'acc' is not defined"
     ]
    }
   ],
   "source": [
    "from getpass import getpass\n",
    "user = input(\"enter your username :\")\n",
    "password = getpass(\"enter your password :\")\n",
    "name= input(\"enter your name :\")\n",
    "balance = float(input(\"enter your balance amount :\"))\n",
    "acc_no = acc\n",
    "acc = acc+1\n",
    "bank['user'].append(user)\n",
    "bank['password'].append(password)\n",
    "bank['name'].append(name)\n",
    "bank['balance'].append(balance)\n",
    "bank['account_number'].append(acc_no)\n",
    "acc= 1001"
   ]
  },
  {
   "cell_type": "code",
   "execution_count": null,
   "metadata": {},
   "outputs": [],
   "source": [
    "l = [] \n",
    "for var in range(int(input())): \n",
    "    data = input().split()\n",
    "    if data[0] == 'print' : \n",
    "        print(l)\n",
    "    elif data[0] == 'append' : \n",
    "        l.append(int(data[1]))\n",
    "    elif data[0] == 'insert' : \n",
    "        l.insert(int(data[1]),int(data[2]))\n",
    "    elif data[0] == 'sort' : \n",
    "        l.sort()\n",
    "    elif data[0] == 'reverse' : \n",
    "        l.reverse()\n",
    "    elif data[0] == 'pop' : \n",
    "        l.pop()\n",
    "    elif data[0] == 'remove' : \n",
    "        l.remove(int(data[1]))\n",
    "    "
   ]
  },
  {
   "cell_type": "code",
   "execution_count": null,
   "metadata": {},
   "outputs": [],
   "source": []
  }
 ],
 "metadata": {
  "kernelspec": {
   "display_name": "Python 3",
   "language": "python",
   "name": "python3"
  },
  "language_info": {
   "codemirror_mode": {
    "name": "ipython",
    "version": 3
   },
   "file_extension": ".py",
   "mimetype": "text/x-python",
   "name": "python",
   "nbconvert_exporter": "python",
   "pygments_lexer": "ipython3",
   "version": "3.6.5"
  }
 },
 "nbformat": 4,
 "nbformat_minor": 2
}
