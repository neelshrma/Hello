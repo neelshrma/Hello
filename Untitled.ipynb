{
 "cells": [
  {
   "cell_type": "code",
   "execution_count": 1,
   "metadata": {},
   "outputs": [
    {
     "data": {
      "text/plain": [
       "'hi'"
      ]
     },
     "execution_count": 1,
     "metadata": {},
     "output_type": "execute_result"
    }
   ],
   "source": [
    "x='hi'\n",
    "x"
   ]
  },
  {
   "cell_type": "code",
   "execution_count": 118,
   "metadata": {},
   "outputs": [
    {
     "name": "stdout",
     "output_type": "stream",
     "text": [
      "enter value :9\n",
      "given no.9 is not prime no.\n"
     ]
    }
   ],
   "source": [
    "num =int(input(\"enter value :\"))\n",
    "check =2\n",
    "while num > check :\n",
    "    if num % check == 0 :\n",
    "        print(\"given no.{} is not prime no.\".format(num))\n",
    "        break\n",
    "    check = check +1\n",
    "else:\n",
    "    print(\"given no.{} is prime\".format(num))"
   ]
  },
  {
   "cell_type": "code",
   "execution_count": 84,
   "metadata": {},
   "outputs": [
    {
     "name": "stdout",
     "output_type": "stream",
     "text": [
      "['__abs__', '__add__', '__and__', '__bool__', '__ceil__', '__class__', '__delattr__', '__dir__', '__divmod__', '__doc__', '__eq__', '__float__', '__floor__', '__floordiv__', '__format__', '__ge__', '__getattribute__', '__getnewargs__', '__gt__', '__hash__', '__index__', '__init__', '__init_subclass__', '__int__', '__invert__', '__le__', '__lshift__', '__lt__', '__mod__', '__mul__', '__ne__', '__neg__', '__new__', '__or__', '__pos__', '__pow__', '__radd__', '__rand__', '__rdivmod__', '__reduce__', '__reduce_ex__', '__repr__', '__rfloordiv__', '__rlshift__', '__rmod__', '__rmul__', '__ror__', '__round__', '__rpow__', '__rrshift__', '__rshift__', '__rsub__', '__rtruediv__', '__rxor__', '__setattr__', '__sizeof__', '__str__', '__sub__', '__subclasshook__', '__truediv__', '__trunc__', '__xor__', 'bit_length', 'conjugate', 'denominator', 'from_bytes', 'imag', 'numerator', 'real', 'to_bytes']\n"
     ]
    }
   ],
   "source": [
    "x= 3\n",
    "print(dir (x))"
   ]
  },
  {
   "cell_type": "markdown",
   "metadata": {},
   "source": []
  },
  {
   "cell_type": "code",
   "execution_count": 107,
   "metadata": {},
   "outputs": [
    {
     "name": "stdout",
     "output_type": "stream",
     "text": [
      "Enter starting point : 1\n",
      "Ennter Ending Point : 10\n",
      "1, 5, 7, \n",
      "Total Prime in range(1,10) are 3\n"
     ]
    }
   ],
   "source": [
    "#prime no.\n",
    "\n",
    "s = int(input(\"Enter starting point : \"))\n",
    "e = int(input(\"Ennter Ending Point : \"))\n",
    "from math import sqrt\n",
    "count = 0\n",
    "st = s\n",
    "while s <= e : \n",
    "        num = s\n",
    "        c = 2\n",
    "        while c <= round(sqrt(num))+1 : \n",
    "            if num % c == 0 : \n",
    "                break\n",
    "            c = c + 1\n",
    "        else : \n",
    "            print(num,end=', ')\n",
    "            count = count + 1\n",
    "        \n",
    "        s = s + 1\n",
    "print(\"\\nTotal Prime in range({},{}) are {}\".format(st,e,count))"
   ]
  },
  {
   "cell_type": "code",
   "execution_count": 1,
   "metadata": {},
   "outputs": [
    {
     "name": "stdout",
     "output_type": "stream",
     "text": [
      "Enter starting point : 1\n",
      "Ennter Ending Point : 50\n",
      "1, 5, 7, 11, 13, 17, 19, 23, 29, 31, 37, 41, 43, 47, \n",
      "Total Prime in range(1,50) are 14\n"
     ]
    }
   ],
   "source": [
    "s = int(input(\"Enter starting point : \"))\n",
    "e = int(input(\"Ennter Ending Point : \"))\n",
    "from math import sqrt\n",
    "count = 0\n",
    "st = s\n",
    "while s <= e : \n",
    "       # num = s\n",
    "        c = 2\n",
    "        while c <= round(s/2)+1 : \n",
    "            if s % c == 0 : \n",
    "                break\n",
    "            c = c + 1\n",
    "        else : \n",
    "            print(s,end=', ')\n",
    "            count = count + 1\n",
    "        \n",
    "        s = s + 1\n",
    "print(\"\\nTotal Prime in range({},{}) are {}\".format(st,e,count))"
   ]
  },
  {
   "cell_type": "code",
   "execution_count": 109,
   "metadata": {},
   "outputs": [
    {
     "name": "stdout",
     "output_type": "stream",
     "text": [
      "['__abs__', '__add__', '__and__', '__bool__', '__ceil__', '__class__', '__delattr__', '__dir__', '__divmod__', '__doc__', '__eq__', '__float__', '__floor__', '__floordiv__', '__format__', '__ge__', '__getattribute__', '__getnewargs__', '__gt__', '__hash__', '__index__', '__init__', '__init_subclass__', '__int__', '__invert__', '__le__', '__lshift__', '__lt__', '__mod__', '__mul__', '__ne__', '__neg__', '__new__', '__or__', '__pos__', '__pow__', '__radd__', '__rand__', '__rdivmod__', '__reduce__', '__reduce_ex__', '__repr__', '__rfloordiv__', '__rlshift__', '__rmod__', '__rmul__', '__ror__', '__round__', '__rpow__', '__rrshift__', '__rshift__', '__rsub__', '__rtruediv__', '__rxor__', '__setattr__', '__sizeof__', '__str__', '__sub__', '__subclasshook__', '__truediv__', '__trunc__', '__xor__', 'bit_length', 'conjugate', 'denominator', 'from_bytes', 'imag', 'numerator', 'real', 'to_bytes']\n"
     ]
    }
   ],
   "source": [
    "print(dir(count))"
   ]
  },
  {
   "cell_type": "code",
   "execution_count": 110,
   "metadata": {},
   "outputs": [
    {
     "name": "stdout",
     "output_type": "stream",
     "text": [
      "Help on built-in function pow in module builtins:\n",
      "\n",
      "pow(x, y, z=None, /)\n",
      "    Equivalent to x**y (with two arguments) or x**y % z (with three arguments)\n",
      "    \n",
      "    Some types, such as ints, are able to use a more efficient algorithm when\n",
      "    invoked using the three argument form.\n",
      "\n"
     ]
    }
   ],
   "source": [
    "help(pow)"
   ]
  },
  {
   "cell_type": "code",
   "execution_count": 134,
   "metadata": {},
   "outputs": [
    {
     "name": "stdout",
     "output_type": "stream",
     "text": [
      "enter value:121\n",
      "go away\n"
     ]
    }
   ],
   "source": [
    "#pelindrome : 121 - 121\n",
    "\n",
    "num=input(\"enter value:\")\n",
    "if num== num[ : : -1] :\n",
    "    print(\"given no. {} is palindrome.\".format(num))\n",
    "else :\n",
    "    print(\"go away\")"
   ]
  },
  {
   "cell_type": "code",
   "execution_count": 135,
   "metadata": {},
   "outputs": [
    {
     "ename": "IndentationError",
     "evalue": "expected an indented block (<ipython-input-135-3f786e2855dc>, line 7)",
     "output_type": "error",
     "traceback": [
      "\u001b[1;36m  File \u001b[1;32m\"<ipython-input-135-3f786e2855dc>\"\u001b[1;36m, line \u001b[1;32m7\u001b[0m\n\u001b[1;33m    if num== num[ : : -1] :\u001b[0m\n\u001b[1;37m     ^\u001b[0m\n\u001b[1;31mIndentationError\u001b[0m\u001b[1;31m:\u001b[0m expected an indented block\n"
     ]
    }
   ],
   "source": [
    "\n",
    "num=input(\"enter value:\")\n",
    "copy_num=num\n",
    "rev_num=0\n",
    "while num :\n",
    "    \n",
    "if num== num[ : : -1] :\n",
    "    print(\"given no. {} is palindrome.\".format(num))\n",
    "else :\n",
    "    print(\"go away\")"
   ]
  },
  {
   "cell_type": "code",
   "execution_count": 136,
   "metadata": {},
   "outputs": [
    {
     "data": {
      "text/plain": [
       "1"
      ]
     },
     "execution_count": 136,
     "metadata": {},
     "output_type": "execute_result"
    }
   ],
   "source": [
    "121%10"
   ]
  },
  {
   "cell_type": "code",
   "execution_count": 137,
   "metadata": {},
   "outputs": [
    {
     "data": {
      "text/plain": [
       "1"
      ]
     },
     "execution_count": 137,
     "metadata": {},
     "output_type": "execute_result"
    }
   ],
   "source": [
    "0*10+1"
   ]
  },
  {
   "cell_type": "code",
   "execution_count": 138,
   "metadata": {},
   "outputs": [
    {
     "data": {
      "text/plain": [
       "12"
      ]
     },
     "execution_count": 138,
     "metadata": {},
     "output_type": "execute_result"
    }
   ],
   "source": [
    "121//10"
   ]
  },
  {
   "cell_type": "code",
   "execution_count": 152,
   "metadata": {},
   "outputs": [
    {
     "name": "stdout",
     "output_type": "stream",
     "text": [
      "Enter a number : 121\n",
      "Given number 121 is not Palindrome number.\n"
     ]
    }
   ],
   "source": [
    "num = int(input(\"Enter a number : \"))\n",
    "copy = num #for later use to check \n",
    "rev_num = 0\n",
    "while num : \n",
    "    last_digit = num % 10  #taking out the last digit\n",
    "    rev_num = rev_num * 10 + last_digit #making new number\n",
    "    num = num // 10 #update number\n",
    "if rev_num == copy : \n",
    "    print(\"Given number {} is Palindrome number.\".format(copy))\n",
    "else : \n",
    "    print(\"Given number {} is not Palindrome number.\".format(copy))"
   ]
  },
  {
   "cell_type": "code",
   "execution_count": 176,
   "metadata": {},
   "outputs": [
    {
     "name": "stdout",
     "output_type": "stream",
     "text": [
      "Enter a number : 768\n",
      "Given Number is not an armstrong number\n"
     ]
    }
   ],
   "source": [
    "num = input(\"Enter a number : \")\n",
    "end = len(num)\n",
    "power = len(num)\n",
    "start = 0\n",
    "armstrong = 0\n",
    "while start < end : \n",
    "    armstrong = armstrong + int(num[start])**power\n",
    "    start = start + 1\n",
    "\n",
    "if armstrong == int(num) : \n",
    "    print(\"Given Number is an armstrong number \")\n",
    "else : \n",
    "    print(\"Given Number is not an armstrong number\")"
   ]
  },
  {
   "cell_type": "code",
   "execution_count": 16,
   "metadata": {},
   "outputs": [
    {
     "name": "stdout",
     "output_type": "stream",
     "text": [
      "1\n",
      "2\n",
      "3\n",
      "4\n",
      "5\n",
      "\n",
      "5\n",
      "4\n",
      "3\n",
      "2\n",
      "1\n"
     ]
    }
   ],
   "source": [
    "list=[1,2,3,4,5]\n",
    "index=0\n",
    "while index<len(list) :\n",
    "    print(list[index])\n",
    "    index=index+1\n",
    "    \n",
    "print()\n",
    "index= len(list) -1\n",
    "while index >= 0 :\n",
    "    print(list[index])\n",
    "    index=index-1\n",
    "    "
   ]
  },
  {
   "cell_type": "code",
   "execution_count": 18,
   "metadata": {},
   "outputs": [
    {
     "name": "stdout",
     "output_type": "stream",
     "text": [
      "enter something:f\n",
      "hello\n",
      "enter something:\n",
      "you can proceed with another program\n"
     ]
    }
   ],
   "source": [
    "while input(\"enter something:\"):\n",
    "    print(\"hello\")\n",
    "else :\n",
    "    print(\"you can proceed with another program\")"
   ]
  },
  {
   "cell_type": "code",
   "execution_count": null,
   "metadata": {},
   "outputs": [],
   "source": [
    "\n",
    "    \n",
    "    \n",
    "        "
   ]
  },
  {
   "cell_type": "code",
   "execution_count": 6,
   "metadata": {},
   "outputs": [],
   "source": [
    "l = [ chr(var) for var in range(2300,2500)]"
   ]
  },
  {
   "cell_type": "code",
   "execution_count": 8,
   "metadata": {},
   "outputs": [
    {
     "name": "stdout",
     "output_type": "stream",
     "text": [
      "['ࣼ', 'ࣽ', 'ࣾ', 'ࣿ', 'ऀ', 'ँ', 'ं', 'ः', 'ऄ', 'अ', 'आ', 'इ', 'ई', 'उ', 'ऊ', 'ऋ', 'ऌ', 'ऍ', 'ऎ', 'ए', 'ऐ', 'ऑ', 'ऒ', 'ओ', 'औ', 'क', 'ख', 'ग', 'घ', 'ङ', 'च', 'छ', 'ज', 'झ', 'ञ', 'ट', 'ठ', 'ड', 'ढ', 'ण', 'त', 'थ', 'द', 'ध', 'न', 'ऩ', 'प', 'फ', 'ब', 'भ', 'म', 'य', 'र', 'ऱ', 'ल', 'ळ', 'ऴ', 'व', 'श', 'ष', 'स', 'ह', 'ऺ', 'ऻ', '़', 'ऽ', 'ा', 'ि', 'ी', 'ु', 'ू', 'ृ', 'ॄ', 'ॅ', 'ॆ', 'े', 'ै', 'ॉ', 'ॊ', 'ो', 'ौ', '्', 'ॎ', 'ॏ', 'ॐ', '॑', '॒', '॓', '॔', 'ॕ', 'ॖ', 'ॗ', 'क़', 'ख़', 'ग़', 'ज़', 'ड़', 'ढ़', 'फ़', 'य़', 'ॠ', 'ॡ', 'ॢ', 'ॣ', '।', '॥', '०', '१', '२', '३', '४', '५', '६', '७', '८', '९', '॰', 'ॱ', 'ॲ', 'ॳ', 'ॴ', 'ॵ', 'ॶ', 'ॷ', 'ॸ', 'ॹ', 'ॺ', 'ॻ', 'ॼ', 'ॽ', 'ॾ', 'ॿ', 'ঀ', 'ঁ', 'ং', 'ঃ', '\\u0984', 'অ', 'আ', 'ই', 'ঈ', 'উ', 'ঊ', 'ঋ', 'ঌ', '\\u098d', '\\u098e', 'এ', 'ঐ', '\\u0991', '\\u0992', 'ও', 'ঔ', 'ক', 'খ', 'গ', 'ঘ', 'ঙ', 'চ', 'ছ', 'জ', 'ঝ', 'ঞ', 'ট', 'ঠ', 'ড', 'ঢ', 'ণ', 'ত', 'থ', 'দ', 'ধ', 'ন', '\\u09a9', 'প', 'ফ', 'ব', 'ভ', 'ম', 'য', 'র', '\\u09b1', 'ল', '\\u09b3', '\\u09b4', '\\u09b5', 'শ', 'ষ', 'স', 'হ', '\\u09ba', '\\u09bb', '়', 'ঽ', 'া', 'ি', 'ী', 'ু', 'ূ', 'ৃ']\n"
     ]
    }
   ],
   "source": [
    "print(l)"
   ]
  },
  {
   "cell_type": "code",
   "execution_count": 9,
   "metadata": {},
   "outputs": [],
   "source": [
    "l1 = [ var for var in range(len(l))]"
   ]
  },
  {
   "cell_type": "code",
   "execution_count": 10,
   "metadata": {},
   "outputs": [
    {
     "name": "stdout",
     "output_type": "stream",
     "text": [
      "[0, 1, 2, 3, 4, 5, 6, 7, 8, 9, 10, 11, 12, 13, 14, 15, 16, 17, 18, 19, 20, 21, 22, 23, 24, 25, 26, 27, 28, 29, 30, 31, 32, 33, 34, 35, 36, 37, 38, 39, 40, 41, 42, 43, 44, 45, 46, 47, 48, 49, 50, 51, 52, 53, 54, 55, 56, 57, 58, 59, 60, 61, 62, 63, 64, 65, 66, 67, 68, 69, 70, 71, 72, 73, 74, 75, 76, 77, 78, 79, 80, 81, 82, 83, 84, 85, 86, 87, 88, 89, 90, 91, 92, 93, 94, 95, 96, 97, 98, 99, 100, 101, 102, 103, 104, 105, 106, 107, 108, 109, 110, 111, 112, 113, 114, 115, 116, 117, 118, 119, 120, 121, 122, 123, 124, 125, 126, 127, 128, 129, 130, 131, 132, 133, 134, 135, 136, 137, 138, 139, 140, 141, 142, 143, 144, 145, 146, 147, 148, 149, 150, 151, 152, 153, 154, 155, 156, 157, 158, 159, 160, 161, 162, 163, 164, 165, 166, 167, 168, 169, 170, 171, 172, 173, 174, 175, 176, 177, 178, 179, 180, 181, 182, 183, 184, 185, 186, 187, 188, 189, 190, 191, 192, 193, 194, 195, 196, 197, 198, 199]\n"
     ]
    }
   ],
   "source": [
    "print(l1)"
   ]
  },
  {
   "cell_type": "code",
   "execution_count": 11,
   "metadata": {},
   "outputs": [
    {
     "name": "stdout",
     "output_type": "stream",
     "text": [
      "[(0, 'ࣼ'), (1, 'ࣽ'), (2, 'ࣾ'), (3, 'ࣿ'), (4, 'ऀ'), (5, 'ँ'), (6, 'ं'), (7, 'ः'), (8, 'ऄ'), (9, 'अ'), (10, 'आ'), (11, 'इ'), (12, 'ई'), (13, 'उ'), (14, 'ऊ'), (15, 'ऋ'), (16, 'ऌ'), (17, 'ऍ'), (18, 'ऎ'), (19, 'ए'), (20, 'ऐ'), (21, 'ऑ'), (22, 'ऒ'), (23, 'ओ'), (24, 'औ'), (25, 'क'), (26, 'ख'), (27, 'ग'), (28, 'घ'), (29, 'ङ'), (30, 'च'), (31, 'छ'), (32, 'ज'), (33, 'झ'), (34, 'ञ'), (35, 'ट'), (36, 'ठ'), (37, 'ड'), (38, 'ढ'), (39, 'ण'), (40, 'त'), (41, 'थ'), (42, 'द'), (43, 'ध'), (44, 'न'), (45, 'ऩ'), (46, 'प'), (47, 'फ'), (48, 'ब'), (49, 'भ'), (50, 'म'), (51, 'य'), (52, 'र'), (53, 'ऱ'), (54, 'ल'), (55, 'ळ'), (56, 'ऴ'), (57, 'व'), (58, 'श'), (59, 'ष'), (60, 'स'), (61, 'ह'), (62, 'ऺ'), (63, 'ऻ'), (64, '़'), (65, 'ऽ'), (66, 'ा'), (67, 'ि'), (68, 'ी'), (69, 'ु'), (70, 'ू'), (71, 'ृ'), (72, 'ॄ'), (73, 'ॅ'), (74, 'ॆ'), (75, 'े'), (76, 'ै'), (77, 'ॉ'), (78, 'ॊ'), (79, 'ो'), (80, 'ौ'), (81, '्'), (82, 'ॎ'), (83, 'ॏ'), (84, 'ॐ'), (85, '॑'), (86, '॒'), (87, '॓'), (88, '॔'), (89, 'ॕ'), (90, 'ॖ'), (91, 'ॗ'), (92, 'क़'), (93, 'ख़'), (94, 'ग़'), (95, 'ज़'), (96, 'ड़'), (97, 'ढ़'), (98, 'फ़'), (99, 'य़'), (100, 'ॠ'), (101, 'ॡ'), (102, 'ॢ'), (103, 'ॣ'), (104, '।'), (105, '॥'), (106, '०'), (107, '१'), (108, '२'), (109, '३'), (110, '४'), (111, '५'), (112, '६'), (113, '७'), (114, '८'), (115, '९'), (116, '॰'), (117, 'ॱ'), (118, 'ॲ'), (119, 'ॳ'), (120, 'ॴ'), (121, 'ॵ'), (122, 'ॶ'), (123, 'ॷ'), (124, 'ॸ'), (125, 'ॹ'), (126, 'ॺ'), (127, 'ॻ'), (128, 'ॼ'), (129, 'ॽ'), (130, 'ॾ'), (131, 'ॿ'), (132, 'ঀ'), (133, 'ঁ'), (134, 'ং'), (135, 'ঃ'), (136, '\\u0984'), (137, 'অ'), (138, 'আ'), (139, 'ই'), (140, 'ঈ'), (141, 'উ'), (142, 'ঊ'), (143, 'ঋ'), (144, 'ঌ'), (145, '\\u098d'), (146, '\\u098e'), (147, 'এ'), (148, 'ঐ'), (149, '\\u0991'), (150, '\\u0992'), (151, 'ও'), (152, 'ঔ'), (153, 'ক'), (154, 'খ'), (155, 'গ'), (156, 'ঘ'), (157, 'ঙ'), (158, 'চ'), (159, 'ছ'), (160, 'জ'), (161, 'ঝ'), (162, 'ঞ'), (163, 'ট'), (164, 'ঠ'), (165, 'ড'), (166, 'ঢ'), (167, 'ণ'), (168, 'ত'), (169, 'থ'), (170, 'দ'), (171, 'ধ'), (172, 'ন'), (173, '\\u09a9'), (174, 'প'), (175, 'ফ'), (176, 'ব'), (177, 'ভ'), (178, 'ম'), (179, 'য'), (180, 'র'), (181, '\\u09b1'), (182, 'ল'), (183, '\\u09b3'), (184, '\\u09b4'), (185, '\\u09b5'), (186, 'শ'), (187, 'ষ'), (188, 'স'), (189, 'হ'), (190, '\\u09ba'), (191, '\\u09bb'), (192, '়'), (193, 'ঽ'), (194, 'া'), (195, 'ি'), (196, 'ী'), (197, 'ু'), (198, 'ূ'), (199, 'ৃ')]\n"
     ]
    }
   ],
   "source": [
    "k = list(zip(l1,l))\n",
    "print(k)"
   ]
  },
  {
   "cell_type": "code",
   "execution_count": 14,
   "metadata": {},
   "outputs": [
    {
     "name": "stdout",
     "output_type": "stream",
     "text": [
      "सचिन\n"
     ]
    }
   ],
   "source": [
    "name = l[60]+l[30]+l[67]+l[44]\n",
    "print(name)"
   ]
  },
  {
   "cell_type": "code",
   "execution_count": 12,
   "metadata": {},
   "outputs": [
    {
     "name": "stdout",
     "output_type": "stream",
     "text": [
      "{0: 'ࣼ',\n",
      " 1: 'ࣽ',\n",
      " 2: 'ࣾ',\n",
      " 3: 'ࣿ',\n",
      " 4: 'ऀ',\n",
      " 5: 'ँ',\n",
      " 6: 'ं',\n",
      " 7: 'ः',\n",
      " 8: 'ऄ',\n",
      " 9: 'अ',\n",
      " 10: 'आ',\n",
      " 11: 'इ',\n",
      " 12: 'ई',\n",
      " 13: 'उ',\n",
      " 14: 'ऊ',\n",
      " 15: 'ऋ',\n",
      " 16: 'ऌ',\n",
      " 17: 'ऍ',\n",
      " 18: 'ऎ',\n",
      " 19: 'ए',\n",
      " 20: 'ऐ',\n",
      " 21: 'ऑ',\n",
      " 22: 'ऒ',\n",
      " 23: 'ओ',\n",
      " 24: 'औ',\n",
      " 25: 'क',\n",
      " 26: 'ख',\n",
      " 27: 'ग',\n",
      " 28: 'घ',\n",
      " 29: 'ङ',\n",
      " 30: 'च',\n",
      " 31: 'छ',\n",
      " 32: 'ज',\n",
      " 33: 'झ',\n",
      " 34: 'ञ',\n",
      " 35: 'ट',\n",
      " 36: 'ठ',\n",
      " 37: 'ड',\n",
      " 38: 'ढ',\n",
      " 39: 'ण',\n",
      " 40: 'त',\n",
      " 41: 'थ',\n",
      " 42: 'द',\n",
      " 43: 'ध',\n",
      " 44: 'न',\n",
      " 45: 'ऩ',\n",
      " 46: 'प',\n",
      " 47: 'फ',\n",
      " 48: 'ब',\n",
      " 49: 'भ',\n",
      " 50: 'म',\n",
      " 51: 'य',\n",
      " 52: 'र',\n",
      " 53: 'ऱ',\n",
      " 54: 'ल',\n",
      " 55: 'ळ',\n",
      " 56: 'ऴ',\n",
      " 57: 'व',\n",
      " 58: 'श',\n",
      " 59: 'ष',\n",
      " 60: 'स',\n",
      " 61: 'ह',\n",
      " 62: 'ऺ',\n",
      " 63: 'ऻ',\n",
      " 64: '़',\n",
      " 65: 'ऽ',\n",
      " 66: 'ा',\n",
      " 67: 'ि',\n",
      " 68: 'ी',\n",
      " 69: 'ु',\n",
      " 70: 'ू',\n",
      " 71: 'ृ',\n",
      " 72: 'ॄ',\n",
      " 73: 'ॅ',\n",
      " 74: 'ॆ',\n",
      " 75: 'े',\n",
      " 76: 'ै',\n",
      " 77: 'ॉ',\n",
      " 78: 'ॊ',\n",
      " 79: 'ो',\n",
      " 80: 'ौ',\n",
      " 81: '्',\n",
      " 82: 'ॎ',\n",
      " 83: 'ॏ',\n",
      " 84: 'ॐ',\n",
      " 85: '॑',\n",
      " 86: '॒',\n",
      " 87: '॓',\n",
      " 88: '॔',\n",
      " 89: 'ॕ',\n",
      " 90: 'ॖ',\n",
      " 91: 'ॗ',\n",
      " 92: 'क़',\n",
      " 93: 'ख़',\n",
      " 94: 'ग़',\n",
      " 95: 'ज़',\n",
      " 96: 'ड़',\n",
      " 97: 'ढ़',\n",
      " 98: 'फ़',\n",
      " 99: 'य़',\n",
      " 100: 'ॠ',\n",
      " 101: 'ॡ',\n",
      " 102: 'ॢ',\n",
      " 103: 'ॣ',\n",
      " 104: '।',\n",
      " 105: '॥',\n",
      " 106: '०',\n",
      " 107: '१',\n",
      " 108: '२',\n",
      " 109: '३',\n",
      " 110: '४',\n",
      " 111: '५',\n",
      " 112: '६',\n",
      " 113: '७',\n",
      " 114: '८',\n",
      " 115: '९',\n",
      " 116: '॰',\n",
      " 117: 'ॱ',\n",
      " 118: 'ॲ',\n",
      " 119: 'ॳ',\n",
      " 120: 'ॴ',\n",
      " 121: 'ॵ',\n",
      " 122: 'ॶ',\n",
      " 123: 'ॷ',\n",
      " 124: 'ॸ',\n",
      " 125: 'ॹ',\n",
      " 126: 'ॺ',\n",
      " 127: 'ॻ',\n",
      " 128: 'ॼ',\n",
      " 129: 'ॽ',\n",
      " 130: 'ॾ',\n",
      " 131: 'ॿ',\n",
      " 132: 'ঀ',\n",
      " 133: 'ঁ',\n",
      " 134: 'ং',\n",
      " 135: 'ঃ',\n",
      " 136: '\\u0984',\n",
      " 137: 'অ',\n",
      " 138: 'আ',\n",
      " 139: 'ই',\n",
      " 140: 'ঈ',\n",
      " 141: 'উ',\n",
      " 142: 'ঊ',\n",
      " 143: 'ঋ',\n",
      " 144: 'ঌ',\n",
      " 145: '\\u098d',\n",
      " 146: '\\u098e',\n",
      " 147: 'এ',\n",
      " 148: 'ঐ',\n",
      " 149: '\\u0991',\n",
      " 150: '\\u0992',\n",
      " 151: 'ও',\n",
      " 152: 'ঔ',\n",
      " 153: 'ক',\n",
      " 154: 'খ',\n",
      " 155: 'গ',\n",
      " 156: 'ঘ',\n",
      " 157: 'ঙ',\n",
      " 158: 'চ',\n",
      " 159: 'ছ',\n",
      " 160: 'জ',\n",
      " 161: 'ঝ',\n",
      " 162: 'ঞ',\n",
      " 163: 'ট',\n",
      " 164: 'ঠ',\n",
      " 165: 'ড',\n",
      " 166: 'ঢ',\n",
      " 167: 'ণ',\n",
      " 168: 'ত',\n",
      " 169: 'থ',\n",
      " 170: 'দ',\n",
      " 171: 'ধ',\n",
      " 172: 'ন',\n",
      " 173: '\\u09a9',\n",
      " 174: 'প',\n",
      " 175: 'ফ',\n",
      " 176: 'ব',\n",
      " 177: 'ভ',\n",
      " 178: 'ম',\n",
      " 179: 'য',\n",
      " 180: 'র',\n",
      " 181: '\\u09b1',\n",
      " 182: 'ল',\n",
      " 183: '\\u09b3',\n",
      " 184: '\\u09b4',\n",
      " 185: '\\u09b5',\n",
      " 186: 'শ',\n",
      " 187: 'ষ',\n",
      " 188: 'স',\n",
      " 189: 'হ',\n",
      " 190: '\\u09ba',\n",
      " 191: '\\u09bb',\n",
      " 192: '়',\n",
      " 193: 'ঽ',\n",
      " 194: 'া',\n",
      " 195: 'ি',\n",
      " 196: 'ী',\n",
      " 197: 'ু',\n",
      " 198: 'ূ',\n",
      " 199: 'ৃ'}\n"
     ]
    }
   ],
   "source": [
    "new = dict(zip(l1,l))\n",
    "from pprint import pprint\n",
    "pprint(new)"
   ]
  },
  {
   "cell_type": "code",
   "execution_count": 8,
   "metadata": {},
   "outputs": [
    {
     "name": "stdout",
     "output_type": "stream",
     "text": [
      "enter number :5\n",
      "length of digit : 1\n",
      "give no. is armstrong no.\n"
     ]
    }
   ],
   "source": [
    "#armstrong\n",
    "num= input(\"enter number :\")\n",
    "l = len(num)\n",
    "power = len(num)\n",
    "print(\"length of digit :\",l)\n",
    "start = 0\n",
    "armstrong =0\n",
    "while start<l :\n",
    "    armstrong = armstrong+(int(num[start]))**power\n",
    "    start =start+1\n",
    "\n",
    "if armstrong==int(num) :\n",
    "    print(\"give no. is armstrong no.\")\n",
    "else :\n",
    "    print(\"given no. is not armstrong no.\")"
   ]
  },
  {
   "cell_type": "code",
   "execution_count": 6,
   "metadata": {},
   "outputs": [
    {
     "name": "stdout",
     "output_type": "stream",
     "text": [
      "enter any no.:4\n",
      "14 , "
     ]
    },
    {
     "ename": "AttributeError",
     "evalue": "'int' object has no attribute 'sort'",
     "output_type": "error",
     "traceback": [
      "\u001b[1;31m---------------------------------------------------------------------------\u001b[0m",
      "\u001b[1;31mAttributeError\u001b[0m                            Traceback (most recent call last)",
      "\u001b[1;32m<ipython-input-6-2358eddb0899>\u001b[0m in \u001b[0;36m<module>\u001b[1;34m()\u001b[0m\n\u001b[0;32m      6\u001b[0m     \u001b[0mprint\u001b[0m\u001b[1;33m(\u001b[0m\u001b[0mx\u001b[0m\u001b[1;33m,\u001b[0m\u001b[0mend\u001b[0m \u001b[1;33m=\u001b[0m \u001b[1;34m' , '\u001b[0m\u001b[1;33m)\u001b[0m\u001b[1;33m\u001b[0m\u001b[0m\n\u001b[0;32m      7\u001b[0m     \u001b[0ms\u001b[0m\u001b[1;33m=\u001b[0m \u001b[0ms\u001b[0m\u001b[1;33m+\u001b[0m\u001b[1;36m1\u001b[0m\u001b[1;33m\u001b[0m\u001b[0m\n\u001b[1;32m----> 8\u001b[1;33m     \u001b[0mprint\u001b[0m\u001b[1;33m(\u001b[0m\u001b[0mx\u001b[0m\u001b[1;33m.\u001b[0m\u001b[0msort\u001b[0m\u001b[1;33m(\u001b[0m\u001b[1;33m)\u001b[0m\u001b[1;33m)\u001b[0m\u001b[1;33m\u001b[0m\u001b[0m\n\u001b[0m",
      "\u001b[1;31mAttributeError\u001b[0m: 'int' object has no attribute 'sort'"
     ]
    }
   ],
   "source": [
    "from random import randint\n",
    "x= int(input(\"enter any no.:\"))\n",
    "s=1\n",
    "while s<10 :\n",
    "    x=randint(1,20)\n",
    "    print(x,end = ' , ')\n",
    "    s= s+1"
   ]
  },
  {
   "cell_type": "code",
   "execution_count": null,
   "metadata": {},
   "outputs": [],
   "source": [
    "from random import choice\n",
    "user = input(\"enter 1st player name:\")\n",
    "l=[\"rock\",\"paper\",\"scizzer\"]\n",
    "choice=1\n",
    "index=0\n",
    "while input(\"do you wanna play game ? press any key :\") :\n",
    "    print(\"\\n1. rock\\n2. paper\\n3.scizzer\\n\")\n",
    "    while choice<l[index] :\n",
    "        user=input(\"what will be your choice :\")\n",
    "        comp =choice(l)\n",
    "        if (user == 1) or (comp == 2) :\n",
    "            print(\"paper wins.comp will be win.\")\n",
    "        elif user == 2 or comp == 3 :\n",
    "            print(\"scizzer wins.comp will win\")\n",
    "        elif user== 3 or comp == 1 :\n",
    "            print(\"rock wins. comp will win.\")\n",
    "        elif (user == 1) or (comp == 3) :\n",
    "            print(\"rock wins. user will win.\")\n",
    "        elif (user == 2) or (comp == 1) :\n",
    "            print(\"paper wins. user will win.\")\n",
    "        elif (user==1 or comp ==1) or (user ==2 or comp == 2) or (user ==3 or comp == 3) :\n",
    "            print(\"its tie.\")"
   ]
  },
  {
   "cell_type": "markdown",
   "metadata": {},
   "source": [
    "# "
   ]
  },
  {
   "cell_type": "code",
   "execution_count": null,
   "metadata": {},
   "outputs": [],
   "source": [
    "320%13"
   ]
  },
  {
   "cell_type": "code",
   "execution_count": null,
   "metadata": {},
   "outputs": [],
   "source": []
  }
 ],
 "metadata": {
  "kernelspec": {
   "display_name": "Python 3",
   "language": "python",
   "name": "python3"
  },
  "language_info": {
   "codemirror_mode": {
    "name": "ipython",
    "version": 3
   },
   "file_extension": ".py",
   "mimetype": "text/x-python",
   "name": "python",
   "nbconvert_exporter": "python",
   "pygments_lexer": "ipython3",
   "version": "3.6.5"
  }
 },
 "nbformat": 4,
 "nbformat_minor": 2
}
