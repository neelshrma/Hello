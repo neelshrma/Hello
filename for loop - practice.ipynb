{
 "cells": [
  {
   "cell_type": "code",
   "execution_count": 1,
   "metadata": {},
   "outputs": [],
   "source": [
    "# initialization\n",
    "#condition\n",
    "#inc/dec"
   ]
  },
  {
   "cell_type": "code",
   "execution_count": 10,
   "metadata": {},
   "outputs": [
    {
     "name": "stdout",
     "output_type": "stream",
     "text": [
      "hello world how are you\n",
      "hello world how are you\n",
      "hello world how are you\n",
      "hello world how are you\n",
      "hello world how are you\n",
      "hello world how are you\n",
      "hello world how are you\n",
      "hello world how are you\n",
      "hello world how are you\n",
      "hello world how are you\n",
      "hello world how are you\n",
      "hello world how are you\n",
      "hello world how are you\n",
      "hello world how are you\n",
      "hello world how are you\n",
      "hello world how are you\n",
      "hello world how are you\n",
      "hello world how are you\n",
      "hello world how are you\n",
      "hello world how are you\n",
      "hello world how are you\n",
      "hello world how are you\n",
      "hello world how are you\n"
     ]
    }
   ],
   "source": [
    "s= \"hello world how are you\"\n",
    "for x in s :\n",
    "    print(s)"
   ]
  },
  {
   "cell_type": "code",
   "execution_count": 6,
   "metadata": {},
   "outputs": [
    {
     "name": "stdout",
     "output_type": "stream",
     "text": [
      "h\te\tl\tl\to\t \tw\to\tr\tl\td\t \th\to\tw\t \ta\tr\te\t \ty\to\tu\t"
     ]
    }
   ],
   "source": [
    "s= \"hello world how are you\"\n",
    "for x in s :\n",
    "    print(x,end='\\t')"
   ]
  },
  {
   "cell_type": "code",
   "execution_count": 7,
   "metadata": {},
   "outputs": [
    {
     "name": "stdout",
     "output_type": "stream",
     "text": [
      "['hello', 1, 2, 4, 5, 'python', 'java', 'c', 'c++']\n"
     ]
    }
   ],
   "source": [
    "l=['hello',1,2,4,5,'python','java','c','c++']\n",
    "print(l)"
   ]
  },
  {
   "cell_type": "code",
   "execution_count": 15,
   "metadata": {},
   "outputs": [
    {
     "name": "stdout",
     "output_type": "stream",
     "text": [
      "hello\n",
      "1\n",
      "2\n",
      "4\n",
      "5\n",
      "python\n",
      "java\n",
      "c\n",
      "c++\n"
     ]
    }
   ],
   "source": [
    "for item in l :\n",
    "    print(item)"
   ]
  },
  {
   "cell_type": "code",
   "execution_count": 16,
   "metadata": {},
   "outputs": [
    {
     "name": "stdout",
     "output_type": "stream",
     "text": [
      "{'name': 'neel', 'country': 'india', 'blood_gp': 'b+ve'}\n"
     ]
    }
   ],
   "source": [
    "d={'name' :'neel',\n",
    "  'country' : 'india',\n",
    "  'blood_gp' : 'b+ve'}\n",
    "print(d)"
   ]
  },
  {
   "cell_type": "code",
   "execution_count": 26,
   "metadata": {},
   "outputs": [
    {
     "name": "stdout",
     "output_type": "stream",
     "text": [
      "{'name': 'neel', 'country': 'india', 'blood_gp': 'b+ve'}\n",
      "{'name': 'neel', 'country': 'india', 'blood_gp': 'b+ve'}\n",
      "{'name': 'neel', 'country': 'india', 'blood_gp': 'b+ve'}\n"
     ]
    }
   ],
   "source": [
    "for key in d :\n",
    "    print(d)"
   ]
  },
  {
   "cell_type": "code",
   "execution_count": 18,
   "metadata": {},
   "outputs": [],
   "source": [
    "x,y=3,4"
   ]
  },
  {
   "cell_type": "code",
   "execution_count": 20,
   "metadata": {},
   "outputs": [
    {
     "name": "stdout",
     "output_type": "stream",
     "text": [
      "3\n",
      "4\n"
     ]
    }
   ],
   "source": [
    "print(x)\n",
    "print(y)"
   ]
  },
  {
   "cell_type": "code",
   "execution_count": 21,
   "metadata": {},
   "outputs": [
    {
     "name": "stdout",
     "output_type": "stream",
     "text": [
      "(1, 2, 3, 4, 5)\n"
     ]
    }
   ],
   "source": [
    "x=1,2,3,4,5\n",
    "print(x)"
   ]
  },
  {
   "cell_type": "code",
   "execution_count": 24,
   "metadata": {},
   "outputs": [
    {
     "name": "stdout",
     "output_type": "stream",
     "text": [
      "12\n"
     ]
    }
   ],
   "source": [
    "x,y='12','34'\n",
    "print(x)"
   ]
  },
  {
   "cell_type": "code",
   "execution_count": 27,
   "metadata": {},
   "outputs": [
    {
     "name": "stdout",
     "output_type": "stream",
     "text": [
      "v1=a and v2=b\n",
      "v1=c and v2=d\n",
      "v1=e and v2=f\n",
      "v1=g and v2=h\n"
     ]
    }
   ],
   "source": [
    "l=['ab','cd','ef','gh']\n",
    "for v1,v2 in l :\n",
    "    print(\"v1={} and v2={}\".format(v1,v2))"
   ]
  },
  {
   "cell_type": "code",
   "execution_count": 34,
   "metadata": {},
   "outputs": [
    {
     "name": "stdout",
     "output_type": "stream",
     "text": [
      "h e l\n",
      "h i i\n",
      "b y e\n"
     ]
    }
   ],
   "source": [
    "l=('hel','hii','bye')\n",
    "for a,b,c in l :\n",
    "    print(a,b,c)"
   ]
  },
  {
   "cell_type": "code",
   "execution_count": null,
   "metadata": {},
   "outputs": [],
   "source": [
    "l=[]"
   ]
  },
  {
   "cell_type": "code",
   "execution_count": 48,
   "metadata": {},
   "outputs": [
    {
     "name": "stdout",
     "output_type": "stream",
     "text": [
      "enter name :nee\n"
     ]
    },
    {
     "ename": "AttributeError",
     "evalue": "'tuple' object has no attribute 'append'",
     "output_type": "error",
     "traceback": [
      "\u001b[1;31m---------------------------------------------------------------------------\u001b[0m",
      "\u001b[1;31mAttributeError\u001b[0m                            Traceback (most recent call last)",
      "\u001b[1;32m<ipython-input-48-7d52891e0d95>\u001b[0m in \u001b[0;36m<module>\u001b[1;34m()\u001b[0m\n\u001b[0;32m      1\u001b[0m \u001b[0mname\u001b[0m \u001b[1;33m=\u001b[0m \u001b[0minput\u001b[0m\u001b[1;33m(\u001b[0m\u001b[1;34m\"enter name :\"\u001b[0m\u001b[1;33m)\u001b[0m\u001b[1;33m\u001b[0m\u001b[0m\n\u001b[1;32m----> 2\u001b[1;33m \u001b[0ml\u001b[0m\u001b[1;33m.\u001b[0m\u001b[0mappend\u001b[0m\u001b[1;33m(\u001b[0m\u001b[0mname\u001b[0m\u001b[1;33m)\u001b[0m\u001b[1;33m\u001b[0m\u001b[0m\n\u001b[0m\u001b[0;32m      3\u001b[0m \u001b[1;32mfor\u001b[0m \u001b[0minfo\u001b[0m \u001b[1;32min\u001b[0m \u001b[1;34m'zzzzz'\u001b[0m \u001b[1;33m:\u001b[0m\u001b[1;33m\u001b[0m\u001b[0m\n\u001b[0;32m      4\u001b[0m     \u001b[0mprint\u001b[0m\u001b[1;33m(\u001b[0m\u001b[0ml\u001b[0m\u001b[1;33m)\u001b[0m\u001b[1;33m\u001b[0m\u001b[0m\n",
      "\u001b[1;31mAttributeError\u001b[0m: 'tuple' object has no attribute 'append'"
     ]
    }
   ],
   "source": [
    "name = input(\"enter name :\")\n",
    "l.append(name)\n",
    "for info in 'zzzzz' :\n",
    "    print(l)"
   ]
  },
  {
   "cell_type": "code",
   "execution_count": 38,
   "metadata": {},
   "outputs": [],
   "source": [
    "list=[]"
   ]
  },
  {
   "cell_type": "code",
   "execution_count": 47,
   "metadata": {},
   "outputs": [
    {
     "name": "stdout",
     "output_type": "stream",
     "text": [
      "enter name :neel\n",
      "['neel']\n",
      "enter name :mov\n",
      "['neel', 'mov']\n",
      "enter name :avu\n",
      "['neel', 'mov', 'avu']\n",
      "enter name :akash\n",
      "['neel', 'mov', 'avu', 'akash']\n",
      "enter name :sourabh\n",
      "['neel', 'mov', 'avu', 'akash', 'sourabh']\n"
     ]
    }
   ],
   "source": [
    "for var in 'abcde' :\n",
    "    name = input(\"enter name :\")\n",
    "    list.append(name)\n",
    "    print(list)"
   ]
  },
  {
   "cell_type": "code",
   "execution_count": 5,
   "metadata": {},
   "outputs": [],
   "source": [
    "info={\n",
    "    'name': 'neel',\n",
    "    'age' : 28 ,\n",
    "    'country' : 'India' ,\n",
    "    'city' : 'jaipur' ,\n",
    "    'hobby' : 'badminton'\n",
    "}"
   ]
  },
  {
   "cell_type": "code",
   "execution_count": 6,
   "metadata": {},
   "outputs": [
    {
     "name": "stdout",
     "output_type": "stream",
     "text": [
      "{'name': 'neel', 'age': 28, 'country': 'India', 'city': 'jaipur', 'hobby': 'badminton'}\n"
     ]
    }
   ],
   "source": [
    "print(info)"
   ]
  },
  {
   "cell_type": "code",
   "execution_count": 16,
   "metadata": {},
   "outputs": [
    {
     "name": "stdout",
     "output_type": "stream",
     "text": [
      "name = neel\n",
      "age = 28\n",
      "country = India\n",
      "city = jaipur\n",
      "hobby = badminton\n"
     ]
    }
   ],
   "source": [
    "for key in info :\n",
    "    print(\"{} = {}\".format(key,info[key]))"
   ]
  },
  {
   "cell_type": "code",
   "execution_count": 24,
   "metadata": {},
   "outputs": [
    {
     "name": "stdout",
     "output_type": "stream",
     "text": [
      "('ab', 'bc', 'cd', 'de', 'ef', 'fg')\n"
     ]
    }
   ],
   "source": [
    "l= 'ab','bc','cd','de','ef','fg'\n",
    "print(l)"
   ]
  },
  {
   "cell_type": "code",
   "execution_count": 38,
   "metadata": {},
   "outputs": [
    {
     "name": "stdout",
     "output_type": "stream",
     "text": [
      "1 = one\n",
      "2 = two\n",
      "3 = three\n",
      "4 = four\n"
     ]
    }
   ],
   "source": [
    "for n1,n2 in l :\n",
    "    print(\"{} = {}\".format(n1,n2))"
   ]
  },
  {
   "cell_type": "code",
   "execution_count": 26,
   "metadata": {},
   "outputs": [
    {
     "name": "stdout",
     "output_type": "stream",
     "text": [
      "[(1, 'one'), (2, 'two'), (3, 'three'), (4, 'four')]\n"
     ]
    }
   ],
   "source": [
    "l=[(1,'one'),(2,'two'),(3,'three'),(4,'four')]\n",
    "print(l)"
   ]
  },
  {
   "cell_type": "code",
   "execution_count": 37,
   "metadata": {},
   "outputs": [
    {
     "name": "stdout",
     "output_type": "stream",
     "text": [
      "1 = one\n",
      "2 = two\n",
      "3 = three\n",
      "4 = four\n"
     ]
    }
   ],
   "source": [
    "for x,y in l :\n",
    "    print(\"{} = {}\".format(x,y))"
   ]
  },
  {
   "cell_type": "code",
   "execution_count": 39,
   "metadata": {},
   "outputs": [
    {
     "name": "stdout",
     "output_type": "stream",
     "text": [
      "[(1, 2, 3, 4), (5, 6, 7, 8), (9, 10, 11, 12)]\n"
     ]
    }
   ],
   "source": [
    "l =[(1,2,3,4),(5,6,7,8),(9,10,11,12)]\n",
    "print(l)"
   ]
  },
  {
   "cell_type": "code",
   "execution_count": 44,
   "metadata": {},
   "outputs": [
    {
     "name": "stdout",
     "output_type": "stream",
     "text": [
      "1 = 2\n",
      "5 = 6\n",
      "9 = 10\n"
     ]
    }
   ],
   "source": [
    "for p,q,r,s in l :\n",
    "    print(\"{} = {}\".format(p,q))"
   ]
  },
  {
   "cell_type": "code",
   "execution_count": 45,
   "metadata": {},
   "outputs": [
    {
     "name": "stdout",
     "output_type": "stream",
     "text": [
      "(1, 2, 3, 4, 5, 6)\n",
      "('one', 'two', 'three', 'four', 'five', 'six')\n"
     ]
    }
   ],
   "source": [
    "l1 = 1,2,3,4,5,6\n",
    "l2='one','two','three','four','five','six'\n",
    "print(l1)\n",
    "print(l2)"
   ]
  },
  {
   "cell_type": "code",
   "execution_count": 52,
   "metadata": {},
   "outputs": [
    {
     "name": "stdout",
     "output_type": "stream",
     "text": [
      "1 = one\n",
      "2 = two\n",
      "3 = three\n",
      "4 = four\n",
      "5 = five\n",
      "6 = six\n"
     ]
    }
   ],
   "source": [
    "for n1,n2 in zip(l1,l2):\n",
    "    print(\"{} = {}\".format(n1,n2))"
   ]
  },
  {
   "cell_type": "code",
   "execution_count": null,
   "metadata": {},
   "outputs": [],
   "source": [
    "l=[]"
   ]
  },
  {
   "cell_type": "code",
   "execution_count": 60,
   "metadata": {},
   "outputs": [
    {
     "name": "stdout",
     "output_type": "stream",
     "text": [
      "enter name :\n",
      "enter name :\n",
      "enter name :\n",
      "enter name :\n",
      "enter name :\n",
      "[(1, 2, 3, 4), (5, 6, 7, 8), (9, 10, 11, 12), 'neel', 'avi', 'sourabh', 'papa', 'mumma', 'neel', 'mov', 'neeel', 'mooov', '', 'neel mov meen', '', '', '', '', 'pop', 'pop', 'pop', 'neel', 'mm', 'mm', 'ss', 'dd', '', '', '', '', '']\n"
     ]
    }
   ],
   "source": [
    "for nn in '12345' :\n",
    "    name = input(\"enter name :\")\n",
    "    l.append(name)\n",
    "    print(l)"
   ]
  },
  {
   "cell_type": "code",
   "execution_count": 63,
   "metadata": {},
   "outputs": [],
   "source": [
    "l.remove('pop')"
   ]
  },
  {
   "cell_type": "code",
   "execution_count": null,
   "metadata": {},
   "outputs": [],
   "source": [
    "#x= int(input(\"no. of times we suppose to print :\"))\n",
    "for var in range(int(input(\"no. of times we suppose to print :\"))) :\n",
    "    print(input(\"enter no. :\"))\n",
    "print(list)"
   ]
  },
  {
   "cell_type": "code",
   "execution_count": null,
   "metadata": {},
   "outputs": [],
   "source": [
    "#program to make enter name and make list for that\n",
    "name_list = []\n",
    "for key in 'aaaaa' :\n",
    "    name = input(\"\")"
   ]
  },
  {
   "cell_type": "code",
   "execution_count": 28,
   "metadata": {},
   "outputs": [
    {
     "name": "stdout",
     "output_type": "stream",
     "text": [
      "enter name :neel\n",
      "enter name :mov\n",
      "enter name :\n",
      "enter name :pop\n",
      "enter name :avi\n",
      "['neel', 'mov', '', 'pop', 'avi']\n"
     ]
    }
   ],
   "source": [
    "l=[]\n",
    "for nn in '12345' :\n",
    "    name = input(\"enter name :\")\n",
    "    l.append(name)\n",
    "print(l)"
   ]
  },
  {
   "cell_type": "code",
   "execution_count": 30,
   "metadata": {},
   "outputs": [],
   "source": [
    "l.remove('mov')"
   ]
  },
  {
   "cell_type": "code",
   "execution_count": 31,
   "metadata": {},
   "outputs": [
    {
     "data": {
      "text/plain": [
       "'mov'"
      ]
     },
     "execution_count": 31,
     "metadata": {},
     "output_type": "execute_result"
    }
   ],
   "source": [
    "'mov'"
   ]
  },
  {
   "cell_type": "code",
   "execution_count": 32,
   "metadata": {},
   "outputs": [
    {
     "data": {
      "text/plain": [
       "['neel', '', 'pop', 'avi']"
      ]
     },
     "execution_count": 32,
     "metadata": {},
     "output_type": "execute_result"
    }
   ],
   "source": [
    "l"
   ]
  },
  {
   "cell_type": "code",
   "execution_count": 33,
   "metadata": {},
   "outputs": [],
   "source": [
    "l.append(\"misha\")"
   ]
  },
  {
   "cell_type": "code",
   "execution_count": 34,
   "metadata": {},
   "outputs": [
    {
     "data": {
      "text/plain": [
       "['neel', '', 'pop', 'avi', 'misha']"
      ]
     },
     "execution_count": 34,
     "metadata": {},
     "output_type": "execute_result"
    }
   ],
   "source": [
    "l"
   ]
  },
  {
   "cell_type": "code",
   "execution_count": 37,
   "metadata": {},
   "outputs": [],
   "source": [
    "l.extend(\"sourabh\")"
   ]
  },
  {
   "cell_type": "code",
   "execution_count": 38,
   "metadata": {},
   "outputs": [
    {
     "data": {
      "text/plain": [
       "['neel',\n",
       " '',\n",
       " 'pop',\n",
       " 'avi',\n",
       " 'misha',\n",
       " 's',\n",
       " 'o',\n",
       " 'u',\n",
       " 'r',\n",
       " 'a',\n",
       " 'b',\n",
       " 'h',\n",
       " 's',\n",
       " 'o',\n",
       " 'u',\n",
       " 'r',\n",
       " 'a',\n",
       " 'b',\n",
       " 'h']"
      ]
     },
     "execution_count": 38,
     "metadata": {},
     "output_type": "execute_result"
    }
   ],
   "source": [
    "l"
   ]
  },
  {
   "cell_type": "code",
   "execution_count": 39,
   "metadata": {},
   "outputs": [
    {
     "data": {
      "text/plain": [
       "'h'"
      ]
     },
     "execution_count": 39,
     "metadata": {},
     "output_type": "execute_result"
    }
   ],
   "source": [
    "l.pop()"
   ]
  },
  {
   "cell_type": "code",
   "execution_count": 40,
   "metadata": {},
   "outputs": [
    {
     "data": {
      "text/plain": [
       "'b'"
      ]
     },
     "execution_count": 40,
     "metadata": {},
     "output_type": "execute_result"
    }
   ],
   "source": [
    "l.pop()"
   ]
  },
  {
   "cell_type": "code",
   "execution_count": 41,
   "metadata": {},
   "outputs": [
    {
     "data": {
      "text/plain": [
       "'a'"
      ]
     },
     "execution_count": 41,
     "metadata": {},
     "output_type": "execute_result"
    }
   ],
   "source": [
    "l.pop()"
   ]
  },
  {
   "cell_type": "code",
   "execution_count": 47,
   "metadata": {},
   "outputs": [
    {
     "ename": "NameError",
     "evalue": "name 'rff' is not defined",
     "output_type": "error",
     "traceback": [
      "\u001b[1;31m---------------------------------------------------------------------------\u001b[0m",
      "\u001b[1;31mNameError\u001b[0m                                 Traceback (most recent call last)",
      "\u001b[1;32m<ipython-input-47-0722b8c0470f>\u001b[0m in \u001b[0;36m<module>\u001b[1;34m()\u001b[0m\n\u001b[1;32m----> 1\u001b[1;33m \u001b[0mrff\u001b[0m\u001b[1;33m\u001b[0m\u001b[0m\n\u001b[0m",
      "\u001b[1;31mNameError\u001b[0m: name 'rff' is not defined"
     ]
    }
   ],
   "source": [
    "rff                                                                               "
   ]
  },
  {
   "cell_type": "code",
   "execution_count": 48,
   "metadata": {},
   "outputs": [
    {
     "data": {
      "text/plain": [
       "range(0, 10)"
      ]
     },
     "execution_count": 48,
     "metadata": {},
     "output_type": "execute_result"
    }
   ],
   "source": [
    "range(10)"
   ]
  },
  {
   "cell_type": "code",
   "execution_count": 50,
   "metadata": {},
   "outputs": [
    {
     "name": "stdout",
     "output_type": "stream",
     "text": [
      "range(0, 5)\n"
     ]
    },
    {
     "data": {
      "text/plain": [
       "[0, 1, 2, 3, 4]"
      ]
     },
     "execution_count": 50,
     "metadata": {},
     "output_type": "execute_result"
    }
   ],
   "source": [
    "x= range(5)\n",
    "print(x)\n",
    "list(x)"
   ]
  },
  {
   "cell_type": "code",
   "execution_count": 51,
   "metadata": {},
   "outputs": [
    {
     "name": "stdout",
     "output_type": "stream",
     "text": [
      "range(1, 100)\n"
     ]
    }
   ],
   "source": [
    "x= range(1,100)\n",
    "print(x)"
   ]
  },
  {
   "cell_type": "code",
   "execution_count": 53,
   "metadata": {},
   "outputs": [
    {
     "name": "stdout",
     "output_type": "stream",
     "text": [
      "[1, 2, 3, 4, 5, 6, 7, 8, 9, 10, 11, 12, 13, 14, 15, 16, 17, 18, 19, 20, 21, 22, 23, 24, 25, 26, 27, 28, 29, 30, 31, 32, 33, 34, 35, 36, 37, 38, 39, 40, 41, 42, 43, 44, 45, 46, 47, 48, 49, 50, 51, 52, 53, 54, 55, 56, 57, 58, 59, 60, 61, 62, 63, 64, 65, 66, 67, 68, 69, 70, 71, 72, 73, 74, 75, 76, 77, 78, 79, 80, 81, 82, 83, 84, 85, 86, 87, 88, 89, 90, 91, 92, 93, 94, 95, 96, 97, 98, 99]\n"
     ]
    }
   ],
   "source": [
    "print(list(x))"
   ]
  },
  {
   "cell_type": "code",
   "execution_count": 55,
   "metadata": {},
   "outputs": [
    {
     "name": "stdout",
     "output_type": "stream",
     "text": [
      "[]\n"
     ]
    }
   ],
   "source": [
    "x= range(100,1)\n",
    "print(list(x))"
   ]
  },
  {
   "cell_type": "code",
   "execution_count": 56,
   "metadata": {},
   "outputs": [
    {
     "name": "stdout",
     "output_type": "stream",
     "text": [
      "[100, 99, 98, 97, 96, 95, 94, 93, 92, 91, 90, 89, 88, 87, 86, 85, 84, 83, 82, 81, 80, 79, 78, 77, 76, 75, 74, 73, 72, 71, 70, 69, 68, 67, 66, 65, 64, 63, 62, 61, 60, 59, 58, 57, 56, 55, 54, 53, 52, 51, 50, 49, 48, 47, 46, 45, 44, 43, 42, 41, 40, 39, 38, 37, 36, 35, 34, 33, 32, 31, 30, 29, 28, 27, 26, 25, 24, 23, 22, 21, 20, 19, 18, 17, 16, 15, 14, 13, 12, 11, 10, 9, 8, 7, 6, 5, 4, 3, 2]\n"
     ]
    }
   ],
   "source": [
    "x= range(100,1,-1)\n",
    "print(list(x))"
   ]
  },
  {
   "cell_type": "code",
   "execution_count": 58,
   "metadata": {},
   "outputs": [
    {
     "name": "stdout",
     "output_type": "stream",
     "text": [
      "[13, 26, 39, 52, 65, 78, 91, 104, 117, 130]\n",
      "13 26 39 52 65 78 91 104 117 130\n"
     ]
    }
   ],
   "source": [
    "x= range(13,131,13)\n",
    "print(list(x))\n",
    "print(*list(x))"
   ]
  },
  {
   "cell_type": "code",
   "execution_count": 60,
   "metadata": {},
   "outputs": [
    {
     "name": "stdout",
     "output_type": "stream",
     "text": [
      "enter number :2\n",
      "2 4 6 8 10 12 14 16 18 20\n"
     ]
    }
   ],
   "source": [
    "num=int(input(\"enter number :\"))\n",
    "print(*list(range(num,(num*10)+1,num)))\n",
    "print(*list(range(num,(num*10)+1,num,sep=-)))"
   ]
  },
  {
   "cell_type": "code",
   "execution_count": 7,
   "metadata": {},
   "outputs": [
    {
     "name": "stdout",
     "output_type": "stream",
     "text": [
      "hello world\n",
      "byee\n"
     ]
    }
   ],
   "source": [
    "from time import sleep\n",
    "x= \"hello world\"\n",
    "print(x)\n",
    "sleep = 5\n",
    "print(\"byee\")"
   ]
  },
  {
   "cell_type": "code",
   "execution_count": null,
   "metadata": {},
   "outputs": [],
   "source": []
  }
 ],
 "metadata": {
  "kernelspec": {
   "display_name": "Python 3",
   "language": "python",
   "name": "python3"
  },
  "language_info": {
   "codemirror_mode": {
    "name": "ipython",
    "version": 3
   },
   "file_extension": ".py",
   "mimetype": "text/x-python",
   "name": "python",
   "nbconvert_exporter": "python",
   "pygments_lexer": "ipython3",
   "version": "3.6.5"
  }
 },
 "nbformat": 4,
 "nbformat_minor": 2
}
