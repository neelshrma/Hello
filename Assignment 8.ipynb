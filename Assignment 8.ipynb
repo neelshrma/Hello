{
 "cells": [
  {
   "cell_type": "code",
   "execution_count": 3,
   "metadata": {},
   "outputs": [
    {
     "name": "stdout",
     "output_type": "stream",
     "text": [
      "Hello world\n"
     ]
    }
   ],
   "source": [
    "#pyhton program to print hello world\n",
    "\n",
    "x= 'Hello world'\n",
    "print(x)"
   ]
  },
  {
   "cell_type": "code",
   "execution_count": 19,
   "metadata": {},
   "outputs": [
    {
     "name": "stdout",
     "output_type": "stream",
     "text": [
      "11\n"
     ]
    }
   ],
   "source": [
    "#program to add two numbers\n",
    "\n",
    "x= 5\n",
    "y= 6\n",
    "z=x+y\n",
    "print(z)"
   ]
  },
  {
   "cell_type": "code",
   "execution_count": 20,
   "metadata": {},
   "outputs": [],
   "source": [
    "#to find the square root"
   ]
  },
  {
   "cell_type": "code",
   "execution_count": 24,
   "metadata": {},
   "outputs": [
    {
     "name": "stdout",
     "output_type": "stream",
     "text": [
      "enter height :30\n",
      "enter base :50\n",
      "area_of_triangle : 750\n"
     ]
    }
   ],
   "source": [
    "# to calculate the area of triangle \n",
    "\n",
    "height=int(input(\"enter height :\"))\n",
    "base = int(input(\"enter base :\"))\n",
    "area_of_triangle = height * base/2\n",
    "print(\"area_of_triangle :\",round(area_of_triangle))"
   ]
  },
  {
   "cell_type": "code",
   "execution_count": 35,
   "metadata": {},
   "outputs": [
    {
     "name": "stdout",
     "output_type": "stream",
     "text": [
      "enter value of a :3\n",
      "enter value of b :4\n",
      "enter value of c :5\n"
     ]
    },
    {
     "ename": "NameError",
     "evalue": "name 'Quadratic' is not defined",
     "output_type": "error",
     "traceback": [
      "\u001b[1;31m---------------------------------------------------------------------------\u001b[0m",
      "\u001b[1;31mNameError\u001b[0m                                 Traceback (most recent call last)",
      "\u001b[1;32m<ipython-input-35-669efbb584a3>\u001b[0m in \u001b[0;36m<module>\u001b[1;34m()\u001b[0m\n\u001b[0;32m      5\u001b[0m \u001b[0mc\u001b[0m\u001b[1;33m=\u001b[0m\u001b[0mint\u001b[0m\u001b[1;33m(\u001b[0m\u001b[0minput\u001b[0m\u001b[1;33m(\u001b[0m\u001b[1;34m\"enter value of c :\"\u001b[0m\u001b[1;33m)\u001b[0m\u001b[1;33m)\u001b[0m\u001b[1;33m\u001b[0m\u001b[0m\n\u001b[0;32m      6\u001b[0m \u001b[0mQuadratic_equation\u001b[0m \u001b[1;33m==\u001b[0m \u001b[1;36m0\u001b[0m\u001b[1;33m\u001b[0m\u001b[0m\n\u001b[1;32m----> 7\u001b[1;33m \u001b[0mQuadratic\u001b[0m \u001b[1;33m==\u001b[0m \u001b[1;33m(\u001b[0m\u001b[0ma\u001b[0m\u001b[1;33m*\u001b[0m\u001b[1;33m(\u001b[0m\u001b[0mx\u001b[0m\u001b[1;33m*\u001b[0m\u001b[0mx\u001b[0m\u001b[1;33m)\u001b[0m\u001b[1;33m+\u001b[0m\u001b[0mb\u001b[0m\u001b[1;33m*\u001b[0m\u001b[0mx\u001b[0m\u001b[1;33m+\u001b[0m\u001b[0mc\u001b[0m\u001b[1;33m)\u001b[0m\u001b[1;33m\u001b[0m\u001b[0m\n\u001b[0m\u001b[0;32m      8\u001b[0m \u001b[0mQuadratic_equation\u001b[0m \u001b[1;33m==\u001b[0m \u001b[0mQuadratic\u001b[0m\u001b[1;33m\u001b[0m\u001b[0m\n\u001b[0;32m      9\u001b[0m \u001b[0mprint\u001b[0m\u001b[1;33m(\u001b[0m\u001b[0mQuadratic\u001b[0m\u001b[1;33m)\u001b[0m\u001b[1;33m\u001b[0m\u001b[0m\n",
      "\u001b[1;31mNameError\u001b[0m: name 'Quadratic' is not defined"
     ]
    }
   ],
   "source": [
    "# to solve quadratic equation - ax2 +bx+c=0\n",
    "\n",
    "a=int(input(\"enter value of a :\"))\n",
    "b=int(input(\"enter value of b :\"))\n",
    "c=int(input(\"enter value of c :\"))\n",
    "Quadratic_equation == 0\n",
    "Quadratic == (a*(x*x)+b*x+c)\n",
    "Quadratic_equation == Quadratic\n",
    "print(Quadratic)"
   ]
  },
  {
   "cell_type": "code",
   "execution_count": 41,
   "metadata": {},
   "outputs": [
    {
     "name": "stdout",
     "output_type": "stream",
     "text": [
      "enter value of x :4\n",
      "enter value of y :5\n",
      "x : 4\n",
      "y : 5\n",
      "after swap value of x : 5\n",
      "after swap value of y : 4\n"
     ]
    }
   ],
   "source": [
    "# to swap two variables\n",
    "\n",
    "x=input(\"enter value of x :\")\n",
    "y=input(\"enter value of y :\")\n",
    "print(\"x :\",x)\n",
    "print(\"y :\",y)\n",
    "z=x\n",
    "x=y\n",
    "y=z\n",
    "print(\"after swap value of x :\",x )\n",
    "print(\"after swap value of y :\",y)"
   ]
  },
  {
   "cell_type": "code",
   "execution_count": 42,
   "metadata": {},
   "outputs": [],
   "source": [
    "# to generate random no."
   ]
  },
  {
   "cell_type": "code",
   "execution_count": 59,
   "metadata": {},
   "outputs": [
    {
     "name": "stdout",
     "output_type": "stream",
     "text": [
      "enter value (in kilometers) :100\n",
      "value of s (in miles): 62.5\n"
     ]
    }
   ],
   "source": [
    "# to convert kilometers to miles 1 km = 0.62miles\n",
    "x = int(input(\"enter value (in kilometers) :\"))\n",
    "y = x/2\n",
    "z = y/4\n",
    "s = y+z\n",
    "print(\"value of s (in miles):\",s)"
   ]
  },
  {
   "cell_type": "code",
   "execution_count": 69,
   "metadata": {},
   "outputs": [
    {
     "name": "stdout",
     "output_type": "stream",
     "text": [
      "enter the value :37\n",
      "conversion of celcius to fahernite: 99\n"
     ]
    }
   ],
   "source": [
    "# to convert celcius to F\n",
    "\n",
    "x=int(input(\"enter the value :\"))\n",
    "y=x*1.8 +32\n",
    "print(\"conversion of celcius to fahernite:\",round(y))"
   ]
  },
  {
   "cell_type": "code",
   "execution_count": 73,
   "metadata": {},
   "outputs": [
    {
     "name": "stdout",
     "output_type": "stream",
     "text": [
      "enter the number :-2\n",
      "number is negative.\n"
     ]
    }
   ],
   "source": [
    "# to check if no. is positive, negative or zero\n",
    "\n",
    "x= int(input(\"enter the number :\"))\n",
    "if x>0 :\n",
    "    print(\"number is positive.\")\n",
    "elif x<0 :\n",
    "    print(\"number is negative.\")\n",
    "else :\n",
    "    print(\"no. is zero.\")"
   ]
  },
  {
   "cell_type": "code",
   "execution_count": 75,
   "metadata": {},
   "outputs": [
    {
     "name": "stdout",
     "output_type": "stream",
     "text": [
      "enter the number :5\n",
      "number is odd.\n"
     ]
    }
   ],
   "source": [
    "# to check if number is odd or even\n",
    "\n",
    "x= int(input(\"enter the number :\"))\n",
    "if x%2==0 :\n",
    "    print(\"number is even.\")\n",
    "else :\n",
    "    print(\"number is odd.\")"
   ]
  },
  {
   "cell_type": "code",
   "execution_count": 2,
   "metadata": {},
   "outputs": [
    {
     "name": "stdout",
     "output_type": "stream",
     "text": [
      "enter the year :2016\n",
      "this is leap year.\n"
     ]
    }
   ],
   "source": [
    "# program to check leap year\n",
    "\n",
    "x=int(input(\"enter the year :\"))\n",
    "if x%4==0 or x%100==0 and x%400==0 :\n",
    "    print(\"this is leap year.\")\n",
    "else :\n",
    "    print(\"this is not leap year.\")"
   ]
  },
  {
   "cell_type": "code",
   "execution_count": 85,
   "metadata": {},
   "outputs": [
    {
     "name": "stdout",
     "output_type": "stream",
     "text": [
      "enter value of x :7\n",
      "enter value of y :8\n",
      "enter value of z :2\n",
      "y is greater.\n"
     ]
    }
   ],
   "source": [
    "# largest among three numbers\n",
    "\n",
    "x=int(input(\"enter value of x :\"))\n",
    "y=int(input(\"enter value of y :\"))\n",
    "z=int(input(\"enter value of z :\"))\n",
    "if x>y and x>z :\n",
    "    print(\"x is greater.\")\n",
    "elif y>x and y>z:\n",
    "    print(\"y is greater.\")\n",
    "else :\n",
    "    print(\"z is greater.\")"
   ]
  },
  {
   "cell_type": "code",
   "execution_count": 14,
   "metadata": {},
   "outputs": [
    {
     "name": "stdout",
     "output_type": "stream",
     "text": [
      "enter number1 :12\n",
      "enter number2 :10\n",
      "value of HCF : 2\n"
     ]
    }
   ],
   "source": [
    "# to find HCF\n",
    "num1 = int(input(\"enter number1 :\"))\n",
    "num2 = int(input(\"enter number2 :\"))\n",
    "while num2>=num1 :\n",
    "    HCF = num2 % num1\n",
    "    print(\"value of HCF :\",HCF)\n",
    "    break\n",
    "if num1>=num2 :\n",
    "    HCF = num1% num2\n",
    "    print(\"value of HCF :\",HCF)"
   ]
  },
  {
   "cell_type": "code",
   "execution_count": 19,
   "metadata": {},
   "outputs": [
    {
     "ename": "ModuleNotFoundError",
     "evalue": "No module named 'lcm'",
     "output_type": "error",
     "traceback": [
      "\u001b[1;31m---------------------------------------------------------------------------\u001b[0m",
      "\u001b[1;31mModuleNotFoundError\u001b[0m                       Traceback (most recent call last)",
      "\u001b[1;32m<ipython-input-19-5d369a78c9fc>\u001b[0m in \u001b[0;36m<module>\u001b[1;34m()\u001b[0m\n\u001b[0;32m      1\u001b[0m \u001b[1;31m# to find : LCM\u001b[0m\u001b[1;33m\u001b[0m\u001b[1;33m\u001b[0m\u001b[0m\n\u001b[0;32m      2\u001b[0m \u001b[1;33m\u001b[0m\u001b[0m\n\u001b[1;32m----> 3\u001b[1;33m \u001b[1;32mimport\u001b[0m \u001b[0mlcm\u001b[0m\u001b[1;33m\u001b[0m\u001b[0m\n\u001b[0m\u001b[0;32m      4\u001b[0m \u001b[0mnum1\u001b[0m \u001b[1;33m=\u001b[0m \u001b[0mint\u001b[0m\u001b[1;33m(\u001b[0m\u001b[0minput\u001b[0m\u001b[1;33m(\u001b[0m\u001b[1;34m\"enter number1 :\"\u001b[0m\u001b[1;33m)\u001b[0m\u001b[1;33m)\u001b[0m\u001b[1;33m\u001b[0m\u001b[0m\n\u001b[0;32m      5\u001b[0m \u001b[0mnum2\u001b[0m \u001b[1;33m=\u001b[0m \u001b[0mint\u001b[0m\u001b[1;33m(\u001b[0m\u001b[0minput\u001b[0m\u001b[1;33m(\u001b[0m\u001b[1;34m\"enter number2 :\"\u001b[0m\u001b[1;33m)\u001b[0m\u001b[1;33m)\u001b[0m\u001b[1;33m\u001b[0m\u001b[0m\n",
      "\u001b[1;31mModuleNotFoundError\u001b[0m: No module named 'lcm'"
     ]
    }
   ],
   "source": [
    "# to find : LCM\n",
    "\n",
    "num1 = int(input(\"enter number1 :\"))\n",
    "num2 = int(input(\"enter number2 :\"))\n",
    "while num2>=num1 :\n",
    "    print(\"lcm :\",lcm(num1,num2))"
   ]
  },
  {
   "cell_type": "code",
   "execution_count": 22,
   "metadata": {},
   "outputs": [
    {
     "name": "stdout",
     "output_type": "stream",
     "text": [
      "enter any decimal value :345\n",
      "0b101011001\n",
      "0o531\n",
      "0x159\n"
     ]
    }
   ],
   "source": [
    "#convert decimal to binary, oct and hexadecimal\n",
    "\n",
    "x=int(input(\"enter any decimal value :\"))\n",
    "print(bin(x))\n",
    "print(oct(x))\n",
    "print(hex(x))"
   ]
  },
  {
   "cell_type": "code",
   "execution_count": 44,
   "metadata": {},
   "outputs": [
    {
     "name": "stdout",
     "output_type": "stream",
     "text": [
      "enter end point :10\n",
      "enter any value:2\n",
      "2 power is 0 : 1\n",
      "2 power is 1 : 2\n",
      "2 power is 2 : 4\n",
      "2 power is 3 : 8\n",
      "2 power is 4 : 16\n",
      "2 power is 5 : 32\n",
      "2 power is 6 : 64\n",
      "2 power is 7 : 128\n",
      "2 power is 8 : 256\n",
      "2 power is 9 : 512\n",
      "2 power is 10 : 1024\n"
     ]
    }
   ],
   "source": [
    "#display powers of 2 using anunymous function\n",
    "\n",
    "e=int(input(\"enter end point :\"))\n",
    "x=int(input(\"enter any value:\"))\n",
    "pow =0\n",
    "e=e+1\n",
    "while e>pow :\n",
    "    r=x**pow\n",
    "    print(\"{} power is {} :\".format(x,pow),r)\n",
    "    pow = pow+1"
   ]
  },
  {
   "cell_type": "code",
   "execution_count": 34,
   "metadata": {},
   "outputs": [
    {
     "name": "stdout",
     "output_type": "stream",
     "text": [
      "1\n",
      "2\n",
      "3\n",
      "4\n",
      "5\n",
      "hello\n",
      "\n",
      "hello\n",
      "5\n",
      "4\n",
      "3\n",
      "2\n",
      "1\n"
     ]
    }
   ],
   "source": [
    "x= [1,2,3,4,5,'hello']\n",
    "x_copy= x\n",
    "index = 0\n",
    "while index<len(x) :\n",
    "    print(x[index])\n",
    "    index= index+1\n",
    "print()\n",
    "index= len(x) - 1\n",
    "while index>=0 :\n",
    "    print(x[index])\n",
    "    index=index-1"
   ]
  },
  {
   "cell_type": "code",
   "execution_count": 35,
   "metadata": {},
   "outputs": [
    {
     "name": "stdout",
     "output_type": "stream",
     "text": [
      "enter end point :10\n",
      "s : 0\n",
      "s : 1\n",
      "s : 1\n",
      "s : 2\n",
      "s : 3\n",
      "s : 5\n",
      "s : 8\n",
      "s : 13\n",
      "s : 21\n",
      "s : 34\n"
     ]
    }
   ],
   "source": [
    "# fibnocci series\n",
    "\n",
    "s= 0\n",
    "n=1\n",
    "e= int(input(\"enter end point :\"))\n",
    "count = 0\n",
    "while count<e :\n",
    "    print(\"s :\",s)\n",
    "    #print(\"fibnocci series :\")\n",
    "    fibnocci = s+n\n",
    "    s = n\n",
    "    n = fibnocci\n",
    "    count = count+1"
   ]
  },
  {
   "cell_type": "code",
   "execution_count": 71,
   "metadata": {},
   "outputs": [
    {
     "name": "stdout",
     "output_type": "stream",
     "text": [
      "enter any character :h\n",
      "104\n"
     ]
    }
   ],
   "source": [
    "#ascii characters\n",
    "\n",
    "ch= input(\"enter any character :\")\n",
    "while ch :\n",
    "    if ch.isalpha() :\n",
    "        print(ord(ch))      # ord is used to find ascii value\n",
    "        break\n",
    "    else :\n",
    "        print(\"nothing\")\n",
    "        break"
   ]
  },
  {
   "cell_type": "code",
   "execution_count": 90,
   "metadata": {},
   "outputs": [
    {
     "name": "stdout",
     "output_type": "stream",
     "text": [
      "enter value of num1 :3\n",
      "enter value of num2 :4\n",
      "choices :\n",
      " 1.Addition\n",
      " 2.Subtraction\n",
      " 3.Multiplication\n",
      " 4.Division\n",
      "\n",
      "enter your choice:6\n",
      "nothing on your side\n"
     ]
    }
   ],
   "source": [
    "# calculator\n",
    "\n",
    "num1 = int(input(\"enter value of num1 :\"))\n",
    "num2 = int(input(\"enter value of num2 :\"))\n",
    "print(\"choices :\\n 1.Addition\\n 2.Subtraction\\n 3.Multiplication\\n 4.Division\\n\")\n",
    "choice = int(input(\"enter your choice:\"))\n",
    "while choice >= 1 and choice < 5 :\n",
    "    if choice == 1 :\n",
    "        addition= num1+num2\n",
    "        print(\"{}+{}={}\".format(num1,num2,addition))\n",
    "        break\n",
    "    elif choice ==2 :\n",
    "        subtraction= num1-num2\n",
    "        print(\"{} - {} = {}\".format(num1,num2,subtraction))\n",
    "        break\n",
    "    elif choice ==3 :\n",
    "        multiplication = num1*num2\n",
    "        print(\"{} * {} = {}\".format(num1,num2,multiplication))\n",
    "        break\n",
    "    elif choice == 4 :\n",
    "        division = num1 / num2\n",
    "        print(\"{}/{} = {}\".format(num1,num2,division))\n",
    "        break\n",
    "else :\n",
    "    print(\"nothing on your side\")"
   ]
  },
  {
   "cell_type": "code",
   "execution_count": 98,
   "metadata": {},
   "outputs": [
    {
     "name": "stdout",
     "output_type": "stream",
     "text": [
      "enter any thing :1221\n",
      "given no. is palindrome no.\n"
     ]
    }
   ],
   "source": [
    "#palindrome \n",
    "\n",
    "x= input(\"enter any thing :\")\n",
    "if x == x[ : :-1] :\n",
    "    print(\"given no. is palindrome no.\")\n",
    "else :\n",
    "    print(\"given no. is not palindrome  no.\")"
   ]
  },
  {
   "cell_type": "code",
   "execution_count": 31,
   "metadata": {},
   "outputs": [
    {
     "name": "stdout",
     "output_type": "stream",
     "text": [
      "enter words :hi i am neel\n",
      "hi i am neel\n",
      "['hi', 'i', 'am', 'neel']\n",
      "sorted words are : ['am', 'hi', 'i', 'neel']\n",
      "am\n",
      "neel\n",
      "i\n",
      "hi\n",
      "am\n"
     ]
    },
    {
     "ename": "IndexError",
     "evalue": "list index out of range",
     "output_type": "error",
     "traceback": [
      "\u001b[1;31m---------------------------------------------------------------------------\u001b[0m",
      "\u001b[1;31mIndexError\u001b[0m                                Traceback (most recent call last)",
      "\u001b[1;32m<ipython-input-31-d0e033d7470f>\u001b[0m in \u001b[0;36m<module>\u001b[1;34m()\u001b[0m\n\u001b[0;32m     12\u001b[0m \u001b[1;31m#index=len(x)-1\u001b[0m\u001b[1;33m\u001b[0m\u001b[1;33m\u001b[0m\u001b[0m\n\u001b[0;32m     13\u001b[0m \u001b[1;32mwhile\u001b[0m \u001b[0mindex\u001b[0m\u001b[1;33m<=\u001b[0m\u001b[1;36m0\u001b[0m \u001b[1;33m:\u001b[0m\u001b[1;33m\u001b[0m\u001b[0m\n\u001b[1;32m---> 14\u001b[1;33m     \u001b[0mprint\u001b[0m\u001b[1;33m(\u001b[0m\u001b[0my\u001b[0m\u001b[1;33m[\u001b[0m\u001b[0mindex\u001b[0m\u001b[1;33m]\u001b[0m\u001b[1;33m)\u001b[0m\u001b[1;33m\u001b[0m\u001b[0m\n\u001b[0m\u001b[0;32m     15\u001b[0m     \u001b[0mindex\u001b[0m\u001b[1;33m=\u001b[0m \u001b[0mindex\u001b[0m\u001b[1;33m-\u001b[0m\u001b[1;36m1\u001b[0m\u001b[1;33m\u001b[0m\u001b[0m\n",
      "\u001b[1;31mIndexError\u001b[0m: list index out of range"
     ]
    }
   ],
   "source": [
    "# sort words in alphabetical order\n",
    "\n",
    "x = (input(\"enter words :\"))\n",
    "print(x)\n",
    "y = x.split()\n",
    "#z=' '.join(y)\n",
    "print(y)\n",
    "#print(z)\n",
    "y.sort()\n",
    "print(\"sorted words are :\",y)\n",
    "index=0\n",
    "#index=len(x)-1\n",
    "while index<=0 :\n",
    "    print(y[index])\n",
    "    index= index-1"
   ]
  },
  {
   "cell_type": "code",
   "execution_count": 14,
   "metadata": {},
   "outputs": [
    {
     "name": "stdout",
     "output_type": "stream",
     "text": [
      "c : 5\n",
      "enter any vowel :e\n",
      "position of vowel e is : 1\n"
     ]
    }
   ],
   "source": [
    "# count the no. of vowels\n",
    "vowels = ('a','e','i','o','u')\n",
    "index = 0\n",
    "c = len(vowels)\n",
    "print(\"c :\",c)\n",
    "if index < c :\n",
    "    x= input(\"enter any vowel :\")\n",
    "    y= vowels.index(x)    \n",
    "    print(\"position of vowel {} is :\".format(x),y)"
   ]
  },
  {
   "cell_type": "code",
   "execution_count": 1,
   "metadata": {},
   "outputs": [
    {
     "name": "stdout",
     "output_type": "stream",
     "text": [
      "Enter a number : 2\n",
      "Given number 2 is a Prime Number.\n"
     ]
    }
   ],
   "source": [
    "#prime number\n",
    "num = int(input(\"Enter a number : \"))\n",
    "\n",
    "check_value = 2\n",
    "while check_value <= num -1 :   \n",
    "    if num % check_value == 0 : \n",
    "        print(\"Given number {} is not a Prime Number.\".format(num))\n",
    "        break\n",
    "    check_value += 1\n",
    "else : \n",
    "    print(\"Given number {} is a Prime Number.\".format(num))"
   ]
  },
  {
   "cell_type": "code",
   "execution_count": 2,
   "metadata": {},
   "outputs": [
    {
     "name": "stdout",
     "output_type": "stream",
     "text": [
      "Enter a number : 3\n",
      "Factorial of 3 is 6.\n"
     ]
    }
   ],
   "source": [
    "#factorial of a number\n",
    "num = int(input(\"Enter a number : \"))\n",
    "copy_num = num\n",
    "fact = 1\n",
    "while num :\n",
    "    fact = fact * num\n",
    "    num = num - 1\n",
    "\n",
    "print(\"Factorial of {} is {}.\".format(copy_num,fact))\n",
    "    "
   ]
  },
  {
   "cell_type": "code",
   "execution_count": 3,
   "metadata": {},
   "outputs": [
    {
     "name": "stdout",
     "output_type": "stream",
     "text": [
      "Enter a number : 121\n",
      "Given number 121 is Palindrome number.\n"
     ]
    }
   ],
   "source": [
    "#maths way or the hard way\n",
    "#palindrome number \n",
    "num = int(input(\"Enter a number : \"))\n",
    "copy = num #for later use to check \n",
    "rev_num = 0\n",
    "while num : \n",
    "    last_digit = num % 10  #taking out the last digit\n",
    "    rev_num = rev_num * 10 + last_digit #making new number\n",
    "    num = num // 10 #update number\n",
    "if rev_num == copy : \n",
    "    print(\"Given number {} is Palindrome number.\".format(copy))\n",
    "else : \n",
    "    print(\"Given number {} is not Palindrome number.\".format(copy))"
   ]
  },
  {
   "cell_type": "code",
   "execution_count": 4,
   "metadata": {},
   "outputs": [
    {
     "name": "stdout",
     "output_type": "stream",
     "text": [
      "Enter a number : 371\n",
      "Given Number is an armstrong number \n"
     ]
    }
   ],
   "source": [
    "#armstrong number\n",
    "#easy method \n",
    "#python way\n",
    "num = input(\"Enter a number : \")\n",
    "end = len(num)\n",
    "power = len(num)\n",
    "start = 0\n",
    "armstrong = 0\n",
    "while start < end : \n",
    "    armstrong = armstrong + int(num[start])**power\n",
    "    start = start + 1\n",
    "\n",
    "if armstrong == int(num) : \n",
    "    print(\"Given Number is an armstrong number \")\n",
    "else : \n",
    "    print(\"Given Number is not an armstrong number\")\n"
   ]
  },
  {
   "cell_type": "code",
   "execution_count": 5,
   "metadata": {},
   "outputs": [
    {
     "name": "stdout",
     "output_type": "stream",
     "text": [
      "Enter a number : 371\n",
      "Given number 371 is an armstrong number.\n"
     ]
    }
   ],
   "source": [
    "#real way\n",
    "#the hard way (maths way)\n",
    "#armstrong num\n",
    "num = int(input(\"Enter a number : \")) \n",
    "copy = num #making copy of a number\n",
    "power = 0 \n",
    "while num : \n",
    "    num = num // 10 \n",
    "    power = power + 1\n",
    "num = copy #reterving the real number again\n",
    "armstrong = 0\n",
    "while num : \n",
    "    last_digit = num % 10 \n",
    "    armstrong = armstrong + last_digit ** power\n",
    "    num = num // 10 \n",
    "\n",
    "if armstrong == copy : \n",
    "    print(\"Given number {} is an armstrong number.\".format(copy))\n",
    "else : \n",
    "    print(\"Given number {} is not an armstrong number.\".format(copy))\n"
   ]
  },
  {
   "cell_type": "code",
   "execution_count": 6,
   "metadata": {},
   "outputs": [
    {
     "name": "stdout",
     "output_type": "stream",
     "text": [
      "*\n",
      "**\n",
      "***\n",
      "****\n",
      "*****\n",
      "******\n",
      "*******\n",
      "********\n",
      "*********\n",
      "**********\n",
      "***********\n"
     ]
    }
   ],
   "source": [
    "yh  h nh                    vv vvvv v             q  "
   ]
  },
  {
   "cell_type": "code",
   "execution_count": 1,
   "metadata": {},
   "outputs": [
    {
     "name": "stdout",
     "output_type": "stream",
     "text": [
      "1.prime\n",
      "2.count\n",
      "3.exit3\n",
      "1.prime\n",
      "2.count\n",
      "3.exit0\n",
      "1.prime\n",
      "2.count\n",
      "3.exit\n"
     ]
    },
    {
     "ename": "ValueError",
     "evalue": "invalid literal for int() with base 10: ''",
     "output_type": "error",
     "traceback": [
      "\u001b[1;31m---------------------------------------------------------------------------\u001b[0m",
      "\u001b[1;31mValueError\u001b[0m                                Traceback (most recent call last)",
      "\u001b[1;32m<ipython-input-1-f8a6c1d50e45>\u001b[0m in \u001b[0;36m<module>\u001b[1;34m()\u001b[0m\n\u001b[0;32m     17\u001b[0m \u001b[1;32mif\u001b[0m \u001b[0m__name__\u001b[0m \u001b[1;33m==\u001b[0m \u001b[1;34m\"__main__\"\u001b[0m \u001b[1;33m:\u001b[0m\u001b[1;33m\u001b[0m\u001b[0m\n\u001b[0;32m     18\u001b[0m     \u001b[1;32mwhile\u001b[0m \u001b[1;32mTrue\u001b[0m\u001b[1;33m:\u001b[0m\u001b[1;33m\u001b[0m\u001b[0m\n\u001b[1;32m---> 19\u001b[1;33m         \u001b[0mch\u001b[0m \u001b[1;33m=\u001b[0m \u001b[0mint\u001b[0m\u001b[1;33m(\u001b[0m\u001b[0minput\u001b[0m\u001b[1;33m(\u001b[0m\u001b[1;34m'1.prime\\n2.count\\n3.exit'\u001b[0m\u001b[1;33m)\u001b[0m\u001b[1;33m)\u001b[0m\u001b[1;33m\u001b[0m\u001b[0m\n\u001b[0m\u001b[0;32m     20\u001b[0m         \u001b[1;32mif\u001b[0m \u001b[0mch\u001b[0m \u001b[1;33m==\u001b[0m \u001b[1;36m1\u001b[0m \u001b[1;33m:\u001b[0m\u001b[1;33m\u001b[0m\u001b[0m\n\u001b[0;32m     21\u001b[0m             \u001b[0mn\u001b[0m \u001b[1;33m=\u001b[0m \u001b[0mint\u001b[0m\u001b[1;33m(\u001b[0m\u001b[0minput\u001b[0m\u001b[1;33m(\u001b[0m\u001b[1;34m\"Number : \"\u001b[0m\u001b[1;33m)\u001b[0m\u001b[1;33m)\u001b[0m\u001b[1;33m\u001b[0m\u001b[0m\n",
      "\u001b[1;31mValueError\u001b[0m: invalid literal for int() with base 10: ''"
     ]
    }
   ],
   "source": [
    "from math import sqrt\n",
    "c = 0\n",
    "def prime(num):\n",
    "    global c\n",
    "    c = c + 1\n",
    "    if num <= 1 :\n",
    "        return False\n",
    "    if num <= 3 :\n",
    "        return True\n",
    "    for var in range(2,int(sqrt(num)+2)):\n",
    "        if num % var == 0 :\n",
    "            return False\n",
    "    return True\n",
    "def count():\n",
    "    print(\"No of time function prime called is : \",c)\n",
    "\n",
    "if __name__ == \"__main__\" :\n",
    "    while True:\n",
    "        ch = int(input('1.prime\\n2.count\\n3.exit'))\n",
    "        if ch == 1 :\n",
    "            n = int(input(\"Number : \"))\n",
    "            print(\"{} is prime : {}\".format(n,prime(n)))\n",
    "        elif ch == 2 :\n",
    "            count()\n",
    "        else :\n",
    "            exit(0)\n",
    "        "
   ]
  },
  {
   "cell_type": "code",
   "execution_count": null,
   "metadata": {},
   "outputs": [],
   "source": []
  }
 ],
 "metadata": {
  "kernelspec": {
   "display_name": "Python 3",
   "language": "python",
   "name": "python3"
  },
  "language_info": {
   "codemirror_mode": {
    "name": "ipython",
    "version": 3
   },
   "file_extension": ".py",
   "mimetype": "text/x-python",
   "name": "python",
   "nbconvert_exporter": "python",
   "pygments_lexer": "ipython3",
   "version": "3.6.5"
  }
 },
 "nbformat": 4,
 "nbformat_minor": 2
}
